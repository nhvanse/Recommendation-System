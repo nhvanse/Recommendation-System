{
  "nbformat": 4,
  "nbformat_minor": 0,
  "metadata": {
    "colab": {
      "name": "DeepAE.ipynb",
      "provenance": [],
      "collapsed_sections": [],
      "authorship_tag": "ABX9TyO59qM8xKSQ5cUZEEy25TNP",
      "include_colab_link": true
    },
    "kernelspec": {
      "name": "python3",
      "display_name": "Python 3"
    },
    "accelerator": "GPU",
    "widgets": {
      "application/vnd.jupyter.widget-state+json": {
        "813419446e714710ab9b0ba4f9b8f546": {
          "model_module": "@jupyter-widgets/controls",
          "model_name": "VBoxModel",
          "state": {
            "_view_name": "VBoxView",
            "_dom_classes": [],
            "_model_name": "VBoxModel",
            "_view_module": "@jupyter-widgets/controls",
            "_model_module_version": "1.5.0",
            "_view_count": null,
            "_view_module_version": "1.5.0",
            "box_style": "",
            "layout": "IPY_MODEL_9ebcc734bee64711995bcc19cbcb07ce",
            "_model_module": "@jupyter-widgets/controls",
            "children": [
              "IPY_MODEL_5444582d67224531b1dc40944714197a",
              "IPY_MODEL_ac9e103d5ff34fc4a19b4e1c92928e77"
            ]
          }
        },
        "9ebcc734bee64711995bcc19cbcb07ce": {
          "model_module": "@jupyter-widgets/base",
          "model_name": "LayoutModel",
          "state": {
            "_view_name": "LayoutView",
            "grid_template_rows": null,
            "right": null,
            "justify_content": null,
            "_view_module": "@jupyter-widgets/base",
            "overflow": null,
            "_model_module_version": "1.2.0",
            "_view_count": null,
            "flex_flow": null,
            "width": null,
            "min_width": null,
            "border": null,
            "align_items": null,
            "bottom": null,
            "_model_module": "@jupyter-widgets/base",
            "top": null,
            "grid_column": null,
            "overflow_y": null,
            "overflow_x": null,
            "grid_auto_flow": null,
            "grid_area": null,
            "grid_template_columns": null,
            "flex": null,
            "_model_name": "LayoutModel",
            "justify_items": null,
            "grid_row": null,
            "max_height": null,
            "align_content": null,
            "visibility": null,
            "align_self": null,
            "height": null,
            "min_height": null,
            "padding": null,
            "grid_auto_rows": null,
            "grid_gap": null,
            "max_width": null,
            "order": null,
            "_view_module_version": "1.2.0",
            "grid_template_areas": null,
            "object_position": null,
            "object_fit": null,
            "grid_auto_columns": null,
            "margin": null,
            "display": null,
            "left": null
          }
        },
        "5444582d67224531b1dc40944714197a": {
          "model_module": "@jupyter-widgets/controls",
          "model_name": "LabelModel",
          "state": {
            "_view_name": "LabelView",
            "style": "IPY_MODEL_715f3c310db045a7a674af99607ff211",
            "_dom_classes": [],
            "description": "",
            "_model_name": "LabelModel",
            "placeholder": "​",
            "_view_module": "@jupyter-widgets/controls",
            "_model_module_version": "1.5.0",
            "value": " 0.07MB of 0.07MB uploaded (0.00MB deduped)\r",
            "_view_count": null,
            "_view_module_version": "1.5.0",
            "description_tooltip": null,
            "_model_module": "@jupyter-widgets/controls",
            "layout": "IPY_MODEL_2cec514c58ef4bcebf059ce50cfc939d"
          }
        },
        "ac9e103d5ff34fc4a19b4e1c92928e77": {
          "model_module": "@jupyter-widgets/controls",
          "model_name": "FloatProgressModel",
          "state": {
            "_view_name": "ProgressView",
            "style": "IPY_MODEL_becedc24f8294b99b6b2b239b222b2a2",
            "_dom_classes": [],
            "description": "",
            "_model_name": "FloatProgressModel",
            "bar_style": "",
            "max": 1,
            "_view_module": "@jupyter-widgets/controls",
            "_model_module_version": "1.5.0",
            "value": 1,
            "_view_count": null,
            "_view_module_version": "1.5.0",
            "orientation": "horizontal",
            "min": 0,
            "description_tooltip": null,
            "_model_module": "@jupyter-widgets/controls",
            "layout": "IPY_MODEL_2e6e4b916820454e8f4f06dd3c2a3b79"
          }
        },
        "715f3c310db045a7a674af99607ff211": {
          "model_module": "@jupyter-widgets/controls",
          "model_name": "DescriptionStyleModel",
          "state": {
            "_view_name": "StyleView",
            "_model_name": "DescriptionStyleModel",
            "description_width": "",
            "_view_module": "@jupyter-widgets/base",
            "_model_module_version": "1.5.0",
            "_view_count": null,
            "_view_module_version": "1.2.0",
            "_model_module": "@jupyter-widgets/controls"
          }
        },
        "2cec514c58ef4bcebf059ce50cfc939d": {
          "model_module": "@jupyter-widgets/base",
          "model_name": "LayoutModel",
          "state": {
            "_view_name": "LayoutView",
            "grid_template_rows": null,
            "right": null,
            "justify_content": null,
            "_view_module": "@jupyter-widgets/base",
            "overflow": null,
            "_model_module_version": "1.2.0",
            "_view_count": null,
            "flex_flow": null,
            "width": null,
            "min_width": null,
            "border": null,
            "align_items": null,
            "bottom": null,
            "_model_module": "@jupyter-widgets/base",
            "top": null,
            "grid_column": null,
            "overflow_y": null,
            "overflow_x": null,
            "grid_auto_flow": null,
            "grid_area": null,
            "grid_template_columns": null,
            "flex": null,
            "_model_name": "LayoutModel",
            "justify_items": null,
            "grid_row": null,
            "max_height": null,
            "align_content": null,
            "visibility": null,
            "align_self": null,
            "height": null,
            "min_height": null,
            "padding": null,
            "grid_auto_rows": null,
            "grid_gap": null,
            "max_width": null,
            "order": null,
            "_view_module_version": "1.2.0",
            "grid_template_areas": null,
            "object_position": null,
            "object_fit": null,
            "grid_auto_columns": null,
            "margin": null,
            "display": null,
            "left": null
          }
        },
        "becedc24f8294b99b6b2b239b222b2a2": {
          "model_module": "@jupyter-widgets/controls",
          "model_name": "ProgressStyleModel",
          "state": {
            "_view_name": "StyleView",
            "_model_name": "ProgressStyleModel",
            "description_width": "",
            "_view_module": "@jupyter-widgets/base",
            "_model_module_version": "1.5.0",
            "_view_count": null,
            "_view_module_version": "1.2.0",
            "bar_color": null,
            "_model_module": "@jupyter-widgets/controls"
          }
        },
        "2e6e4b916820454e8f4f06dd3c2a3b79": {
          "model_module": "@jupyter-widgets/base",
          "model_name": "LayoutModel",
          "state": {
            "_view_name": "LayoutView",
            "grid_template_rows": null,
            "right": null,
            "justify_content": null,
            "_view_module": "@jupyter-widgets/base",
            "overflow": null,
            "_model_module_version": "1.2.0",
            "_view_count": null,
            "flex_flow": null,
            "width": null,
            "min_width": null,
            "border": null,
            "align_items": null,
            "bottom": null,
            "_model_module": "@jupyter-widgets/base",
            "top": null,
            "grid_column": null,
            "overflow_y": null,
            "overflow_x": null,
            "grid_auto_flow": null,
            "grid_area": null,
            "grid_template_columns": null,
            "flex": null,
            "_model_name": "LayoutModel",
            "justify_items": null,
            "grid_row": null,
            "max_height": null,
            "align_content": null,
            "visibility": null,
            "align_self": null,
            "height": null,
            "min_height": null,
            "padding": null,
            "grid_auto_rows": null,
            "grid_gap": null,
            "max_width": null,
            "order": null,
            "_view_module_version": "1.2.0",
            "grid_template_areas": null,
            "object_position": null,
            "object_fit": null,
            "grid_auto_columns": null,
            "margin": null,
            "display": null,
            "left": null
          }
        }
      }
    }
  },
  "cells": [
    {
      "cell_type": "markdown",
      "metadata": {
        "id": "view-in-github",
        "colab_type": "text"
      },
      "source": [
        "<a href=\"https://colab.research.google.com/github/van26101998/Recommendation-System/blob/main/DeepAE.ipynb\" target=\"_parent\"><img src=\"https://colab.research.google.com/assets/colab-badge.svg\" alt=\"Open In Colab\"/></a>"
      ]
    },
    {
      "cell_type": "markdown",
      "metadata": {
        "id": "GHMAb2aAvs_4"
      },
      "source": [
        "# Pre"
      ]
    },
    {
      "cell_type": "code",
      "metadata": {
        "id": "5x7E5No2cH8R",
        "colab": {
          "base_uri": "https://localhost:8080/"
        },
        "outputId": "1e967d41-30b7-4b9b-ed22-914fea48d736"
      },
      "source": [
        "# install required packages\r\n",
        "!pip install -q comet_ml wandb"
      ],
      "execution_count": null,
      "outputs": [
        {
          "output_type": "stream",
          "text": [
            "\u001b[K     |████████████████████████████████| 245kB 5.8MB/s \n",
            "\u001b[K     |████████████████████████████████| 1.8MB 22.7MB/s \n",
            "\u001b[K     |████████████████████████████████| 512kB 20.9MB/s \n",
            "\u001b[K     |████████████████████████████████| 204kB 37.1MB/s \n",
            "\u001b[K     |████████████████████████████████| 133kB 41.1MB/s \n",
            "\u001b[K     |████████████████████████████████| 163kB 41.5MB/s \n",
            "\u001b[K     |████████████████████████████████| 81kB 11.6MB/s \n",
            "\u001b[K     |████████████████████████████████| 102kB 14.1MB/s \n",
            "\u001b[K     |████████████████████████████████| 71kB 11.8MB/s \n",
            "\u001b[?25h  Building wheel for subprocess32 (setup.py) ... \u001b[?25l\u001b[?25hdone\n",
            "  Building wheel for configobj (setup.py) ... \u001b[?25l\u001b[?25hdone\n"
          ],
          "name": "stdout"
        }
      ]
    },
    {
      "cell_type": "code",
      "metadata": {
        "id": "1_IgvvOTdReQ",
        "colab": {
          "base_uri": "https://localhost:8080/",
          "height": 151
        },
        "outputId": "4db1c8b0-450b-4621-fc80-34a8f9f35df4"
      },
      "source": [
        "import wandb\r\n",
        "wandb_run = wandb.init(project=\"deeprec-new-ml1m\")\r\n"
      ],
      "execution_count": null,
      "outputs": [
        {
          "output_type": "display_data",
          "data": {
            "application/javascript": [
              "\n",
              "        window._wandbApiKey = new Promise((resolve, reject) => {\n",
              "            function loadScript(url) {\n",
              "            return new Promise(function(resolve, reject) {\n",
              "                let newScript = document.createElement(\"script\");\n",
              "                newScript.onerror = reject;\n",
              "                newScript.onload = resolve;\n",
              "                document.body.appendChild(newScript);\n",
              "                newScript.src = url;\n",
              "            });\n",
              "            }\n",
              "            loadScript(\"https://cdn.jsdelivr.net/npm/postmate/build/postmate.min.js\").then(() => {\n",
              "            const iframe = document.createElement('iframe')\n",
              "            iframe.style.cssText = \"width:0;height:0;border:none\"\n",
              "            document.body.appendChild(iframe)\n",
              "            const handshake = new Postmate({\n",
              "                container: iframe,\n",
              "                url: 'https://wandb.ai/authorize'\n",
              "            });\n",
              "            const timeout = setTimeout(() => reject(\"Couldn't auto authenticate\"), 5000)\n",
              "            handshake.then(function(child) {\n",
              "                child.on('authorize', data => {\n",
              "                    clearTimeout(timeout)\n",
              "                    resolve(data)\n",
              "                });\n",
              "            });\n",
              "            })\n",
              "        });\n",
              "    "
            ],
            "text/plain": [
              "<IPython.core.display.Javascript object>"
            ]
          },
          "metadata": {
            "tags": []
          }
        },
        {
          "output_type": "stream",
          "text": [
            "\u001b[34m\u001b[1mwandb\u001b[0m: Appending key for api.wandb.ai to your netrc file: /root/.netrc\n"
          ],
          "name": "stderr"
        },
        {
          "output_type": "display_data",
          "data": {
            "text/html": [
              "\n",
              "                Tracking run with wandb version 0.10.12<br/>\n",
              "                Syncing run <strong style=\"color:#cdcd00\">different-firefly-58</strong> to <a href=\"https://wandb.ai\" target=\"_blank\">Weights & Biases</a> <a href=\"https://docs.wandb.com/integrations/jupyter.html\" target=\"_blank\">(Documentation)</a>.<br/>\n",
              "                Project page: <a href=\"https://wandb.ai/van26101998/deeprec-new-ml1m\" target=\"_blank\">https://wandb.ai/van26101998/deeprec-new-ml1m</a><br/>\n",
              "                Run page: <a href=\"https://wandb.ai/van26101998/deeprec-new-ml1m/runs/2wrteplw\" target=\"_blank\">https://wandb.ai/van26101998/deeprec-new-ml1m/runs/2wrteplw</a><br/>\n",
              "                Run data is saved locally in <code>/content/wandb/run-20210106_161205-2wrteplw</code><br/><br/>\n",
              "            "
            ],
            "text/plain": [
              "<IPython.core.display.HTML object>"
            ]
          },
          "metadata": {
            "tags": []
          }
        }
      ]
    },
    {
      "cell_type": "code",
      "metadata": {
        "id": "4-6SRStKdPgy",
        "colab": {
          "base_uri": "https://localhost:8080/"
        },
        "outputId": "0ce5b87f-04b8-4255-f72d-06ac6a12b160"
      },
      "source": [
        "from comet_ml import Experiment\r\n",
        "#Create an experiment with your api key:\r\n",
        "experiment = Experiment(\r\n",
        "    api_key=\"41MoEshiqniCH5C9YqZnSpEfc\",\r\n",
        "    project_name=\"deeprec-new-ml1m\",\r\n",
        "    workspace=\"van26101998\",\r\n",
        ")"
      ],
      "execution_count": null,
      "outputs": [
        {
          "output_type": "stream",
          "text": [
            "COMET INFO: Experiment is live on comet.ml https://www.comet.ml/van26101998/deeprec-new-ml1m/d2fdb5df6f7b4c198ad05cae97f5a717\n",
            "\n"
          ],
          "name": "stderr"
        }
      ]
    },
    {
      "cell_type": "code",
      "metadata": {
        "id": "9dLlJ1MydZeg"
      },
      "source": [
        "SEED = None"
      ],
      "execution_count": null,
      "outputs": []
    },
    {
      "cell_type": "code",
      "metadata": {
        "id": "Nxzz20rRdXYY"
      },
      "source": [
        "from typing import List, Dict, Text\r\n",
        "import torch\r\n",
        "import torch.nn as nn\r\n",
        "from torch.utils.data import DataLoader, Dataset, Subset\r\n",
        "\r\n",
        "from torchsummary import summary\r\n",
        "import numpy as np\r\n",
        "import pandas as pd\r\n",
        "import zipfile\r\n",
        "import random\r\n",
        "\r\n",
        "from sklearn.model_selection import train_test_split\r\n",
        "# torch.manual_seed(SEED)"
      ],
      "execution_count": null,
      "outputs": []
    },
    {
      "cell_type": "markdown",
      "metadata": {
        "id": "RpcgJwXhVwuM"
      },
      "source": [
        "# Movielens 1M Dataset"
      ]
    },
    {
      "cell_type": "code",
      "metadata": {
        "id": "pFz80uYndbKA",
        "colab": {
          "base_uri": "https://localhost:8080/"
        },
        "outputId": "f7550736-bc41-4851-c04d-5984141ad2bf"
      },
      "source": [
        "!wget -c http://files.grouplens.org/datasets/movielens/ml-1m.zip\r\n",
        "import zipfile\r\n",
        "with zipfile.ZipFile('ml-1m.zip', 'r') as zip_ref:\r\n",
        "    zip_ref.extractall()"
      ],
      "execution_count": null,
      "outputs": [
        {
          "output_type": "stream",
          "text": [
            "--2021-01-06 16:12:15--  http://files.grouplens.org/datasets/movielens/ml-1m.zip\n",
            "Resolving files.grouplens.org (files.grouplens.org)... 128.101.65.152\n",
            "Connecting to files.grouplens.org (files.grouplens.org)|128.101.65.152|:80... connected.\n",
            "HTTP request sent, awaiting response... 200 OK\n",
            "Length: 5917549 (5.6M) [application/zip]\n",
            "Saving to: ‘ml-1m.zip’\n",
            "\n",
            "ml-1m.zip           100%[===================>]   5.64M  4.27MB/s    in 1.3s    \n",
            "\n",
            "2021-01-06 16:12:17 (4.27 MB/s) - ‘ml-1m.zip’ saved [5917549/5917549]\n",
            "\n"
          ],
          "name": "stdout"
        }
      ]
    },
    {
      "cell_type": "code",
      "metadata": {
        "colab": {
          "base_uri": "https://localhost:8080/",
          "height": 402
        },
        "id": "XjjA0peCTfaZ",
        "outputId": "82e26f60-f0ff-4553-ea12-3126cb687fc5"
      },
      "source": [
        "ratings_df = pd.read_csv('./ml-1m/ratings.dat', sep=\"::\", engine='python', names=['user', 'item', 'rating', 'timestamp'])\r\n",
        "users = sorted(ratings_df['user'].unique())\r\n",
        "items = sorted(ratings_df['item'].unique())\r\n",
        "ratings_df"
      ],
      "execution_count": null,
      "outputs": [
        {
          "output_type": "execute_result",
          "data": {
            "text/html": [
              "<div>\n",
              "<style scoped>\n",
              "    .dataframe tbody tr th:only-of-type {\n",
              "        vertical-align: middle;\n",
              "    }\n",
              "\n",
              "    .dataframe tbody tr th {\n",
              "        vertical-align: top;\n",
              "    }\n",
              "\n",
              "    .dataframe thead th {\n",
              "        text-align: right;\n",
              "    }\n",
              "</style>\n",
              "<table border=\"1\" class=\"dataframe\">\n",
              "  <thead>\n",
              "    <tr style=\"text-align: right;\">\n",
              "      <th></th>\n",
              "      <th>user</th>\n",
              "      <th>item</th>\n",
              "      <th>rating</th>\n",
              "      <th>timestamp</th>\n",
              "    </tr>\n",
              "  </thead>\n",
              "  <tbody>\n",
              "    <tr>\n",
              "      <th>0</th>\n",
              "      <td>1</td>\n",
              "      <td>1193</td>\n",
              "      <td>5</td>\n",
              "      <td>978300760</td>\n",
              "    </tr>\n",
              "    <tr>\n",
              "      <th>1</th>\n",
              "      <td>1</td>\n",
              "      <td>661</td>\n",
              "      <td>3</td>\n",
              "      <td>978302109</td>\n",
              "    </tr>\n",
              "    <tr>\n",
              "      <th>2</th>\n",
              "      <td>1</td>\n",
              "      <td>914</td>\n",
              "      <td>3</td>\n",
              "      <td>978301968</td>\n",
              "    </tr>\n",
              "    <tr>\n",
              "      <th>3</th>\n",
              "      <td>1</td>\n",
              "      <td>3408</td>\n",
              "      <td>4</td>\n",
              "      <td>978300275</td>\n",
              "    </tr>\n",
              "    <tr>\n",
              "      <th>4</th>\n",
              "      <td>1</td>\n",
              "      <td>2355</td>\n",
              "      <td>5</td>\n",
              "      <td>978824291</td>\n",
              "    </tr>\n",
              "    <tr>\n",
              "      <th>...</th>\n",
              "      <td>...</td>\n",
              "      <td>...</td>\n",
              "      <td>...</td>\n",
              "      <td>...</td>\n",
              "    </tr>\n",
              "    <tr>\n",
              "      <th>1000204</th>\n",
              "      <td>6040</td>\n",
              "      <td>1091</td>\n",
              "      <td>1</td>\n",
              "      <td>956716541</td>\n",
              "    </tr>\n",
              "    <tr>\n",
              "      <th>1000205</th>\n",
              "      <td>6040</td>\n",
              "      <td>1094</td>\n",
              "      <td>5</td>\n",
              "      <td>956704887</td>\n",
              "    </tr>\n",
              "    <tr>\n",
              "      <th>1000206</th>\n",
              "      <td>6040</td>\n",
              "      <td>562</td>\n",
              "      <td>5</td>\n",
              "      <td>956704746</td>\n",
              "    </tr>\n",
              "    <tr>\n",
              "      <th>1000207</th>\n",
              "      <td>6040</td>\n",
              "      <td>1096</td>\n",
              "      <td>4</td>\n",
              "      <td>956715648</td>\n",
              "    </tr>\n",
              "    <tr>\n",
              "      <th>1000208</th>\n",
              "      <td>6040</td>\n",
              "      <td>1097</td>\n",
              "      <td>4</td>\n",
              "      <td>956715569</td>\n",
              "    </tr>\n",
              "  </tbody>\n",
              "</table>\n",
              "<p>1000209 rows × 4 columns</p>\n",
              "</div>"
            ],
            "text/plain": [
              "         user  item  rating  timestamp\n",
              "0           1  1193       5  978300760\n",
              "1           1   661       3  978302109\n",
              "2           1   914       3  978301968\n",
              "3           1  3408       4  978300275\n",
              "4           1  2355       5  978824291\n",
              "...       ...   ...     ...        ...\n",
              "1000204  6040  1091       1  956716541\n",
              "1000205  6040  1094       5  956704887\n",
              "1000206  6040   562       5  956704746\n",
              "1000207  6040  1096       4  956715648\n",
              "1000208  6040  1097       4  956715569\n",
              "\n",
              "[1000209 rows x 4 columns]"
            ]
          },
          "metadata": {
            "tags": []
          },
          "execution_count": 7
        }
      ]
    },
    {
      "cell_type": "code",
      "metadata": {
        "id": "YN7eFrMtU0Gy"
      },
      "source": [
        "# train validate test split\r\n",
        "train_df, test_df = train_test_split(ratings_df, test_size=0.1, random_state=SEED)\r\n",
        "train_df, validate_df = train_test_split(train_df, test_size=0.1, random_state=SEED)"
      ],
      "execution_count": null,
      "outputs": []
    },
    {
      "cell_type": "code",
      "metadata": {
        "colab": {
          "base_uri": "https://localhost:8080/"
        },
        "id": "YoMoTusznlCp",
        "outputId": "1b7a0967-ebac-4735-b008-39c2d0597011"
      },
      "source": [
        "print(\"number of train-validate-test:\", len(train_df), len(validate_df), len(test_df))"
      ],
      "execution_count": null,
      "outputs": [
        {
          "output_type": "stream",
          "text": [
            "number of train-validate-test: 810169 90019 100021\n"
          ],
          "name": "stdout"
        }
      ]
    },
    {
      "cell_type": "code",
      "metadata": {
        "id": "EK40qPN2dbtA"
      },
      "source": [
        "class ML1MDataset(Dataset):\r\n",
        "    \"\"\"\r\n",
        "        MovieLens 1M Dataset\r\n",
        "        + Params:\r\n",
        "            - ratings_df: DataFrame with 4 columns: user, item, rating, timestamp\r\n",
        "            - users: list all users\r\n",
        "            - items: list all items\r\n",
        "    \"\"\"\r\n",
        "    def __init__(self, ratings_df: pd.DataFrame, users: List[int], items: List[int]):\r\n",
        "        self.data = {} \r\n",
        "        # dictionary with key - user, value - (a dictionary key - item, value - rating)\r\n",
        "        for user, item, rating, timestamp in ratings_df.to_numpy():\r\n",
        "            if user not in self.data:\r\n",
        "                self.data[user] = {}\r\n",
        "                \r\n",
        "            self.data[user][item] = rating\r\n",
        "         \r\n",
        "        \r\n",
        "        self.users = users\r\n",
        "        self.items = items\r\n",
        "        \r\n",
        "        self.num_users = len(self.users)\r\n",
        "        self.num_items = len(self.items)\r\n",
        "        self.num_ratings = len(ratings_df)\r\n",
        "\r\n",
        "        self.user_to_id = {user:id for id, user in enumerate(self.users)}\r\n",
        "        self.item_to_id = {item:id for id, item in enumerate(self.items)}\r\n",
        "    \r\n",
        "    def __len__(self):\r\n",
        "        return self.num_users\r\n",
        "    \r\n",
        "\r\n",
        "    def __getitem__(self, idx):\r\n",
        "\r\n",
        "        user = self.users[idx]\r\n",
        "\r\n",
        "        ratings_vector = np.full((self.num_items,), 0)\r\n",
        "\r\n",
        "        if user in self.data:\r\n",
        "            for item, rating in self.data[user].items():\r\n",
        "                id = self.item_to_id[item]\r\n",
        "                ratings_vector[id] = rating\r\n",
        "\r\n",
        "        \r\n",
        "        return torch.FloatTensor(ratings_vector)"
      ],
      "execution_count": null,
      "outputs": []
    },
    {
      "cell_type": "code",
      "metadata": {
        "id": "cy4_nulOhaec"
      },
      "source": [
        "trainset =  ML1MDataset(train_df, users, items)\r\n",
        "testset = ML1MDataset(test_df, users, items)\r\n",
        "validateset = ML1MDataset(validate_df, users, items)"
      ],
      "execution_count": null,
      "outputs": []
    },
    {
      "cell_type": "code",
      "metadata": {
        "colab": {
          "base_uri": "https://localhost:8080/"
        },
        "id": "wFgxgS90c83K",
        "outputId": "33ab2f22-c23a-4071-bb00-a1df20e5553a"
      },
      "source": [
        "trainset.num_users"
      ],
      "execution_count": null,
      "outputs": [
        {
          "output_type": "execute_result",
          "data": {
            "text/plain": [
              "6040"
            ]
          },
          "metadata": {
            "tags": []
          },
          "execution_count": 12
        }
      ]
    },
    {
      "cell_type": "markdown",
      "metadata": {
        "id": "nXhRqf37Qink"
      },
      "source": [
        "# Model"
      ]
    },
    {
      "cell_type": "code",
      "metadata": {
        "id": "goBXV0s9Vk3K"
      },
      "source": [
        "def get_activation_layer(activation_func: str):\n",
        "    activation_func = str.lower(activation_func)\n",
        "    match = {\n",
        "        \"selu\": nn.SELU(),\n",
        "        \"relu\": nn.ReLU(),\n",
        "        \"sigmoid\": nn.Sigmoid(),\n",
        "        \"tanh\": nn.Tanh()\n",
        "    }\n",
        "    \n",
        "    return match[activation_func]"
      ],
      "execution_count": null,
      "outputs": []
    },
    {
      "cell_type": "code",
      "metadata": {
        "id": "_b9Ek0OrH6fl"
      },
      "source": [
        "class DeepAutoEncoder(nn.Module):\n",
        "    def __init__(self, layer_sizes, activation_func='selu', is_constrained=True, dropout=0.0):\n",
        "        \"\"\"\n",
        "            Params:\n",
        "                layer_sizes: list of integers, if layer_sizes = [1000, 512, 256], the model has 2 encoder layers (1000*512) -> (512*256), and 2 decoder layers (256*512) -> (512*1000)\n",
        "                activation_func: activation function, one of `relu`, `tanh`, sigmoid`, `selu`\n",
        "                is_constrained: if True, the decoder re-uses weights of the encoder\n",
        "        \"\"\"\n",
        "        super(DeepAutoEncoder, self).__init__()\n",
        "\n",
        "        layers = list()\n",
        "\n",
        "        # encoder\n",
        "        for i in range(len(layer_sizes) - 1):\n",
        "            in_features = layer_sizes[i]\n",
        "            out_features = layer_sizes[i+1]\n",
        "            linear_layer = nn.Linear(in_features,out_features)\n",
        "            self.init_weight(linear_layer)\n",
        "            layers.append(linear_layer)\n",
        "            layers.append(get_activation_layer(activation_func))\n",
        "        \n",
        "        if dropout > 0:\n",
        "            layers.append(nn.Dropout(dropout))\n",
        "        \n",
        "        # decoder\n",
        "        for i in range(len(layer_sizes) - 1, 0, -1):\n",
        "            in_features = layer_sizes[i]\n",
        "            out_features = layer_sizes[i-1]\n",
        "            linear_layer = nn.Linear(in_features,out_features)\n",
        "            if is_constrained:\n",
        "                encode_linear_layer = layers[2*i-2]\n",
        "                linear_layer.weight.data = encode_linear_layer.weight.data.transpose(0, 1)\n",
        "            else:\n",
        "                self.init_weight(linear_layer)\n",
        "            layers.append(linear_layer)\n",
        "            layers.append(get_activation_layer(activation_func))\n",
        "        \n",
        "        self.dae = nn.Sequential(*layers)\n",
        "\n",
        "\n",
        "    def init_weight(self, layer):\n",
        "        if type(layer) == nn.Linear:\n",
        "            nn.init.xavier_uniform_(layer.weight)\n",
        "            layer.bias.data.fill_(0.01)\n",
        "    \n",
        "    \n",
        "    def forward(self, x):\n",
        "        return self.dae(x)"
      ],
      "execution_count": null,
      "outputs": []
    },
    {
      "cell_type": "markdown",
      "metadata": {
        "id": "xmsi0fvzWAx9"
      },
      "source": [
        "# Train-test function"
      ]
    },
    {
      "cell_type": "code",
      "metadata": {
        "id": "a7hjANWUwi0C"
      },
      "source": [
        "def masked_se(y_true, y_pred):\r\n",
        "    mask = y_true != 0\r\n",
        "    num_ratings = torch.sum(mask.float())\r\n",
        "    criterion = nn.MSELoss(reduction='sum')\r\n",
        "    \r\n",
        "    return criterion(y_pred * mask.float(), y_true), num_ratings"
      ],
      "execution_count": null,
      "outputs": []
    },
    {
      "cell_type": "code",
      "metadata": {
        "id": "S8222BwqVrl4"
      },
      "source": [
        "def train(model, optimizer, data_loader, device):\n",
        "    \"\"\"\n",
        "        Train the model\n",
        "        Params:\n",
        "        ...\n",
        "        criterion: loss function\n",
        "        Return:\n",
        "        total_loss\n",
        "    \"\"\"\n",
        "    model.train()\n",
        "    mse_total = 0.0\n",
        "    num_ratings_total = data_loader.dataset.num_ratings\n",
        "    \n",
        "    for i, data in enumerate(data_loader):\n",
        "        input = data.to(device)\n",
        "        output = model(input)\n",
        "        square_error, num_ratings = masked_se(input.float(), output)\n",
        "        loss = square_error / num_ratings\n",
        "        model.zero_grad()\n",
        "        loss.backward()\n",
        "        optimizer.step()\n",
        "\n",
        "        mse_total += square_error.item() / num_ratings_total\n",
        "        \n",
        "    \n",
        "    return mse_total"
      ],
      "execution_count": null,
      "outputs": []
    },
    {
      "cell_type": "code",
      "metadata": {
        "id": "XNJIS0wDWH5s"
      },
      "source": [
        "def test(model, data_loader, device):\n",
        "    \"\"\"\n",
        "        Evaluate the model\n",
        "        Return: RMSE\n",
        "    \"\"\"\n",
        "    model.eval()\n",
        "    mse_total = 0.0\n",
        "    num_ratings_total = data_loader.dataset.num_ratings\n",
        "\n",
        "    with torch.no_grad():\n",
        "        for data in data_loader:\n",
        "            input = data.to(device)\n",
        "            output = model(input)\n",
        "            output = torch.clamp(output, 1.0, 5.0)\n",
        "\n",
        "            square_error, num_ratings = masked_se(input.float(), output)\n",
        "\n",
        "            mse_total += square_error.item() / num_ratings_total\n",
        "\n",
        "    return np.sqrt(mse_total)"
      ],
      "execution_count": null,
      "outputs": []
    },
    {
      "cell_type": "markdown",
      "metadata": {
        "id": "TiMNWuNAWLk2"
      },
      "source": [
        "# Train on MovieLens1M"
      ]
    },
    {
      "cell_type": "code",
      "metadata": {
        "id": "aBZAHnoDWSBi"
      },
      "source": [
        "# parameters\n",
        "input_dim = len(items)\n",
        "layer_sizes = [input_dim, 512, 512, 1024]\n",
        "device = torch.device('cuda')\n",
        "batch_size = 512\n",
        "epochs = 100\n",
        "lr = 0.005\n",
        "momentum = 0.9\n",
        "dropout = 0.8\n",
        "activation = 'selu'\n",
        "is_constrained = True"
      ],
      "execution_count": null,
      "outputs": []
    },
    {
      "cell_type": "code",
      "metadata": {
        "id": "PcOdZwvTWpT3"
      },
      "source": [
        "trainloader = DataLoader(trainset, batch_size=batch_size)\n",
        "validateloader = DataLoader(validateset, batch_size=batch_size)\n",
        "testloader = DataLoader(testset, batch_size=batch_size)"
      ],
      "execution_count": null,
      "outputs": []
    },
    {
      "cell_type": "code",
      "metadata": {
        "colab": {
          "base_uri": "https://localhost:8080/"
        },
        "id": "wIkRfvuhXHS9",
        "outputId": "41c7d2d8-3633-4af7-b7b6-f1ecf3f60a56"
      },
      "source": [
        "model = DeepAutoEncoder(layer_sizes, dropout=dropout, is_constrained=is_constrained, activation_func=activation)\n",
        "model = model.to(device)\n",
        "summary(model, (1, layer_sizes[0]))"
      ],
      "execution_count": null,
      "outputs": [
        {
          "output_type": "stream",
          "text": [
            "----------------------------------------------------------------\n",
            "        Layer (type)               Output Shape         Param #\n",
            "================================================================\n",
            "            Linear-1               [-1, 1, 512]       1,897,984\n",
            "              SELU-2               [-1, 1, 512]               0\n",
            "            Linear-3               [-1, 1, 512]         262,656\n",
            "              SELU-4               [-1, 1, 512]               0\n",
            "            Linear-5              [-1, 1, 1024]         525,312\n",
            "              SELU-6              [-1, 1, 1024]               0\n",
            "           Dropout-7              [-1, 1, 1024]               0\n",
            "            Linear-8               [-1, 1, 512]         524,800\n",
            "              SELU-9               [-1, 1, 512]               0\n",
            "           Linear-10               [-1, 1, 512]         262,656\n",
            "             SELU-11               [-1, 1, 512]               0\n",
            "           Linear-12              [-1, 1, 3706]       1,901,178\n",
            "             SELU-13              [-1, 1, 3706]               0\n",
            "================================================================\n",
            "Total params: 5,374,586\n",
            "Trainable params: 5,374,586\n",
            "Non-trainable params: 0\n",
            "----------------------------------------------------------------\n",
            "Input size (MB): 0.01\n",
            "Forward/backward pass size (MB): 0.11\n",
            "Params size (MB): 20.50\n",
            "Estimated Total Size (MB): 20.63\n",
            "----------------------------------------------------------------\n"
          ],
          "name": "stdout"
        }
      ]
    },
    {
      "cell_type": "code",
      "metadata": {
        "colab": {
          "base_uri": "https://localhost:8080/"
        },
        "id": "RsUG4eQBvsap",
        "outputId": "ddf60cec-2adc-4eb2-f48d-2218a4630273"
      },
      "source": [
        "wandb.watch(model, log=\"all\")"
      ],
      "execution_count": null,
      "outputs": [
        {
          "output_type": "execute_result",
          "data": {
            "text/plain": [
              "[<wandb.wandb_torch.TorchGraph at 0x7fe94a805b00>]"
            ]
          },
          "metadata": {
            "tags": []
          },
          "execution_count": 21
        }
      ]
    },
    {
      "cell_type": "code",
      "metadata": {
        "id": "Ppu0V4E-XPYw"
      },
      "source": [
        "optimizer = torch.optim.SGD(params=model.parameters(), lr=lr, momentum=momentum)"
      ],
      "execution_count": null,
      "outputs": []
    },
    {
      "cell_type": "code",
      "metadata": {
        "id": "jHXhr3Nhv4cy"
      },
      "source": [
        "params = {\r\n",
        "    \"seed\": SEED,\r\n",
        "    \"layer_sizes\": layer_sizes,\r\n",
        "    \"device\": device,\r\n",
        "    \"batch_size\": batch_size,\r\n",
        "    \"epochs\": epochs,\r\n",
        "    \"lr\": lr,\r\n",
        "    \"dropout\": dropout,\r\n",
        "    \"momentum\": momentum,\r\n",
        "    \"activation\": activation,\r\n",
        "    \"optimizer\": optimizer,\r\n",
        "    \"is_constrained\": is_constrained\r\n",
        "}\r\n",
        "experiment.log_parameters(params)\r\n",
        "wandb.config.update(params)"
      ],
      "execution_count": null,
      "outputs": []
    },
    {
      "cell_type": "code",
      "metadata": {
        "colab": {
          "base_uri": "https://localhost:8080/"
        },
        "id": "dN0LP0DYXTUr",
        "outputId": "ba9abc61-89f2-45ba-82d1-2ed439fb2791"
      },
      "source": [
        "from time import time\n",
        "t0 = time()\n",
        "for epoch in range(epochs):\n",
        "    train_loss = train(model, optimizer, trainloader, device)\n",
        "    train_rmse_clip = test(model, trainloader, device)\n",
        "    valid_rmse_clip = test(model, validateloader, device)\n",
        "    \n",
        "    print('epoch {} \\t train_loss {} \\t train_rmse {} \\t valid_rmse {}'.format(epoch+1, train_loss, train_rmse_clip, valid_rmse_clip))\n",
        "\n",
        "    metrics = {\n",
        "        \"train_loss\": train_loss,\n",
        "        \"train_rmse_clip\": train_rmse_clip,\n",
        "        \"valid_rmse_clip\": valid_rmse_clip\n",
        "    }\n",
        "    experiment.log_metrics(metrics, epoch=epoch+1)\n",
        "    wandb.log(metrics, step=epoch+1)\n",
        "print(\"total time: \", time() - t0)"
      ],
      "execution_count": null,
      "outputs": [
        {
          "output_type": "stream",
          "text": [
            "epoch 1 \t train_loss 8.933366718857423 \t train_rmse 1.6881575236094908 \t valid_rmse 1.7038445458673808\n",
            "epoch 2 \t train_loss 4.655088340364788 \t train_rmse 1.4450904144208423 \t valid_rmse 1.6100743573638279\n",
            "epoch 3 \t train_loss 3.2377958526245756 \t train_rmse 1.3471300982336327 \t valid_rmse 1.51621795128371\n",
            "epoch 4 \t train_loss 2.672079413369309 \t train_rmse 1.3021274628328374 \t valid_rmse 1.4588657175762385\n",
            "epoch 5 \t train_loss 2.414370315792137 \t train_rmse 1.2812029970316272 \t valid_rmse 1.407678667733789\n",
            "epoch 6 \t train_loss 2.2103950205913825 \t train_rmse 1.2832135208535584 \t valid_rmse 1.3906814719889964\n",
            "epoch 7 \t train_loss 2.0612856893129705 \t train_rmse 1.35500457637447 \t valid_rmse 1.4035377944999925\n",
            "epoch 8 \t train_loss 1.920708702057842 \t train_rmse 1.3941718537298486 \t valid_rmse 1.4028372961834676\n",
            "epoch 9 \t train_loss 1.819818534774843 \t train_rmse 1.3907471591817155 \t valid_rmse 1.3917491024657502\n",
            "epoch 10 \t train_loss 1.737774088261215 \t train_rmse 1.3992142162815713 \t valid_rmse 1.3964518696619068\n",
            "epoch 11 \t train_loss 1.6666349185324296 \t train_rmse 1.3933821594695257 \t valid_rmse 1.3961740231856452\n",
            "epoch 12 \t train_loss 1.5992691320422034 \t train_rmse 1.4008333567048887 \t valid_rmse 1.398322766691504\n",
            "epoch 13 \t train_loss 1.548108471426949 \t train_rmse 1.416301100643487 \t valid_rmse 1.393426195254601\n",
            "epoch 14 \t train_loss 1.4997056941206097 \t train_rmse 1.342373512105425 \t valid_rmse 1.354965834291927\n",
            "epoch 15 \t train_loss 1.4541126411588199 \t train_rmse 1.3302366402533663 \t valid_rmse 1.3472922285731137\n",
            "epoch 16 \t train_loss 1.4120705159201352 \t train_rmse 1.3030441325819522 \t valid_rmse 1.3397220893328803\n",
            "epoch 17 \t train_loss 1.3929852714371942 \t train_rmse 1.2685459286552587 \t valid_rmse 1.3210927416587261\n",
            "epoch 18 \t train_loss 1.3416195417252448 \t train_rmse 1.2784142922855353 \t valid_rmse 1.3180021963286221\n",
            "epoch 19 \t train_loss 1.325896982990586 \t train_rmse 1.2947420007333887 \t valid_rmse 1.313551460767931\n",
            "epoch 20 \t train_loss 1.300131438625768 \t train_rmse 1.245988136105128 \t valid_rmse 1.2885359350435195\n",
            "epoch 21 \t train_loss 1.2770359968876865 \t train_rmse 1.2423491804675661 \t valid_rmse 1.291683071682669\n",
            "epoch 22 \t train_loss 1.258111800979178 \t train_rmse 1.2749339168496925 \t valid_rmse 1.293339119878588\n",
            "epoch 23 \t train_loss 1.2305148968147388 \t train_rmse 1.2484722553257326 \t valid_rmse 1.2832850642778293\n",
            "epoch 24 \t train_loss 1.2220631494015446 \t train_rmse 1.2287960520347254 \t valid_rmse 1.2662872137093588\n",
            "epoch 25 \t train_loss 1.19779806358303 \t train_rmse 1.2105977795576994 \t valid_rmse 1.246138934926844\n",
            "epoch 26 \t train_loss 1.1761607136520282 \t train_rmse 1.2130173638276525 \t valid_rmse 1.2455945889448399\n",
            "epoch 27 \t train_loss 1.1672079953380097 \t train_rmse 1.1916964048857017 \t valid_rmse 1.2323025486911068\n",
            "epoch 28 \t train_loss 1.1575170388832454 \t train_rmse 1.168329182797396 \t valid_rmse 1.2054219173630736\n",
            "epoch 29 \t train_loss 1.1470375702476892 \t train_rmse 1.1656673252347152 \t valid_rmse 1.1947146272287636\n",
            "epoch 30 \t train_loss 1.131924027965153 \t train_rmse 1.1851005796772582 \t valid_rmse 1.2046923945311454\n",
            "epoch 31 \t train_loss 1.11919505278374 \t train_rmse 1.1240020717540082 \t valid_rmse 1.1723876048786894\n",
            "epoch 32 \t train_loss 1.1133892473360496 \t train_rmse 1.1383865828765756 \t valid_rmse 1.177303791687621\n",
            "epoch 33 \t train_loss 1.105894702795034 \t train_rmse 1.1693518774122234 \t valid_rmse 1.1664509101839577\n",
            "epoch 34 \t train_loss 1.0904786628623164 \t train_rmse 1.1354686748959264 \t valid_rmse 1.1535498001110027\n",
            "epoch 35 \t train_loss 1.0882969276703378 \t train_rmse 1.1394312440718475 \t valid_rmse 1.1556466572363104\n",
            "epoch 36 \t train_loss 1.0692673766214211 \t train_rmse 1.1013993170813547 \t valid_rmse 1.1244442170920748\n",
            "epoch 37 \t train_loss 1.055625667491906 \t train_rmse 1.1179527598057661 \t valid_rmse 1.1269632872767454\n",
            "epoch 38 \t train_loss 1.0532729851348916 \t train_rmse 1.0987152964709237 \t valid_rmse 1.1265848793404927\n",
            "epoch 39 \t train_loss 1.0409035703507539 \t train_rmse 1.0892272913745742 \t valid_rmse 1.1068423651099197\n",
            "epoch 40 \t train_loss 1.0367665814555358 \t train_rmse 1.0933904805272692 \t valid_rmse 1.0965939776469196\n",
            "epoch 41 \t train_loss 1.0335202246383162 \t train_rmse 1.084836928078731 \t valid_rmse 1.1005866645112965\n",
            "epoch 42 \t train_loss 1.0213912882296778 \t train_rmse 1.0875172544048606 \t valid_rmse 1.0857886918431645\n",
            "epoch 43 \t train_loss 1.015969912604654 \t train_rmse 1.0810349240842678 \t valid_rmse 1.0775227132603595\n",
            "epoch 44 \t train_loss 1.0131271897437448 \t train_rmse 1.0675451209278173 \t valid_rmse 1.0748353548347143\n",
            "epoch 45 \t train_loss 1.0029212703229204 \t train_rmse 1.0821013813062972 \t valid_rmse 1.0625595062978157\n",
            "epoch 46 \t train_loss 0.9981808193722546 \t train_rmse 1.0570554636412584 \t valid_rmse 1.0578235367787836\n",
            "epoch 47 \t train_loss 0.9984002903638008 \t train_rmse 1.0500414859684066 \t valid_rmse 1.0589752809497737\n",
            "epoch 48 \t train_loss 0.9891809802954693 \t train_rmse 1.0709167132659843 \t valid_rmse 1.0516712060175168\n",
            "epoch 49 \t train_loss 0.9841385572408349 \t train_rmse 1.0372470060727517 \t valid_rmse 1.0387878496439382\n",
            "epoch 50 \t train_loss 0.9792875294383024 \t train_rmse 1.0350068421674874 \t valid_rmse 1.0293890701410566\n",
            "epoch 51 \t train_loss 0.9719703880841528 \t train_rmse 1.0573082696670737 \t valid_rmse 1.0364371455473114\n",
            "epoch 52 \t train_loss 0.9678391560896553 \t train_rmse 1.0297853290108634 \t valid_rmse 1.0210213975247755\n",
            "epoch 53 \t train_loss 0.9639370718871619 \t train_rmse 1.054504196659498 \t valid_rmse 1.0224511551818616\n",
            "epoch 54 \t train_loss 0.9609598670539728 \t train_rmse 1.0538386302620442 \t valid_rmse 1.024620796861739\n",
            "epoch 55 \t train_loss 0.9573275471691709 \t train_rmse 1.022170032367935 \t valid_rmse 1.0072860648746982\n",
            "epoch 56 \t train_loss 0.9522085293701067 \t train_rmse 1.0268346928147527 \t valid_rmse 1.005358847851575\n",
            "epoch 57 \t train_loss 0.946352372737972 \t train_rmse 1.0306590746720308 \t valid_rmse 1.0056972670822728\n",
            "epoch 58 \t train_loss 0.9393873473466646 \t train_rmse 1.0438324917953705 \t valid_rmse 1.0052038912860854\n",
            "epoch 59 \t train_loss 0.9391934015078952 \t train_rmse 1.0049242806844232 \t valid_rmse 0.9873401220069183\n",
            "epoch 60 \t train_loss 0.938947566418241 \t train_rmse 1.0329370065170551 \t valid_rmse 0.9965245677873363\n",
            "epoch 61 \t train_loss 0.9323397292339624 \t train_rmse 1.0276455921387875 \t valid_rmse 0.9881761863248915\n",
            "epoch 62 \t train_loss 0.9333726686191399 \t train_rmse 1.0260600761930705 \t valid_rmse 0.9854086429187654\n",
            "epoch 63 \t train_loss 0.9314376026406219 \t train_rmse 1.002041148923475 \t valid_rmse 0.9782799120397654\n",
            "epoch 64 \t train_loss 0.9204487591863549 \t train_rmse 1.0013194847854485 \t valid_rmse 0.9750631086326227\n",
            "epoch 65 \t train_loss 0.9243338716212297 \t train_rmse 1.026725001909738 \t valid_rmse 0.9827926949398978\n",
            "epoch 66 \t train_loss 0.9176295412592929 \t train_rmse 0.9927823907306351 \t valid_rmse 0.9690689633637875\n",
            "epoch 67 \t train_loss 0.9114997004097293 \t train_rmse 0.9991606831563591 \t valid_rmse 0.9659886492954983\n",
            "epoch 68 \t train_loss 0.9109893998582395 \t train_rmse 0.9851730045804368 \t valid_rmse 0.9623190617041695\n",
            "epoch 69 \t train_loss 0.9097352440895048 \t train_rmse 1.0062252428361884 \t valid_rmse 0.9646092635981726\n",
            "epoch 70 \t train_loss 0.9062289299362232 \t train_rmse 0.9902955882887875 \t valid_rmse 0.9613613984776938\n",
            "epoch 71 \t train_loss 0.9014876303971765 \t train_rmse 0.9947178730744568 \t valid_rmse 0.9593510961233797\n",
            "epoch 72 \t train_loss 0.9018029388389954 \t train_rmse 0.9869539763541371 \t valid_rmse 0.9542846753910125\n",
            "epoch 73 \t train_loss 0.9032122223495962 \t train_rmse 1.0082327838155487 \t valid_rmse 0.9591510412547267\n",
            "epoch 74 \t train_loss 0.8974744100459288 \t train_rmse 0.999284381529205 \t valid_rmse 0.9568638009030112\n",
            "epoch 75 \t train_loss 0.8927941172613367 \t train_rmse 0.9957344337796123 \t valid_rmse 0.9564106714202065\n",
            "epoch 76 \t train_loss 0.891580713020987 \t train_rmse 0.9965985234818198 \t valid_rmse 0.9552740597605817\n",
            "epoch 77 \t train_loss 0.8904612369070528 \t train_rmse 0.9848906510109702 \t valid_rmse 0.9466982600072062\n",
            "epoch 78 \t train_loss 0.8865350113294265 \t train_rmse 1.0040273714711894 \t valid_rmse 0.9540030829381071\n",
            "epoch 79 \t train_loss 0.8870884597071722 \t train_rmse 0.9998786155652855 \t valid_rmse 0.9502982441044658\n",
            "epoch 80 \t train_loss 0.8822275429570868 \t train_rmse 0.9919757715782497 \t valid_rmse 0.9454175386348275\n",
            "epoch 81 \t train_loss 0.8851481671956716 \t train_rmse 1.0026425132073016 \t valid_rmse 0.9482710522008058\n",
            "epoch 82 \t train_loss 0.8762871591066185 \t train_rmse 0.9872761871354853 \t valid_rmse 0.9430132724141044\n",
            "epoch 83 \t train_loss 0.8770323836369326 \t train_rmse 0.9956330043211912 \t valid_rmse 0.9431160059723493\n",
            "epoch 84 \t train_loss 0.8779503392964925 \t train_rmse 0.9878058883631624 \t valid_rmse 0.943597326837446\n",
            "epoch 85 \t train_loss 0.8776996682173719 \t train_rmse 1.0064861336015163 \t valid_rmse 0.947097368552933\n",
            "epoch 86 \t train_loss 0.8739697365611373 \t train_rmse 0.9779916151356223 \t valid_rmse 0.9366949167968435\n",
            "epoch 87 \t train_loss 0.8709765676590315 \t train_rmse 0.9824507701151294 \t valid_rmse 0.9382030051954882\n",
            "epoch 88 \t train_loss 0.8710334568312291 \t train_rmse 0.9981765001361624 \t valid_rmse 0.9428036840264246\n",
            "epoch 89 \t train_loss 0.8746524693073299 \t train_rmse 0.9931386029429246 \t valid_rmse 0.9400991807949787\n",
            "epoch 90 \t train_loss 0.8711820658714416 \t train_rmse 0.985659975827525 \t valid_rmse 0.9343586485035076\n",
            "epoch 91 \t train_loss 0.8751553350674366 \t train_rmse 1.002428567729149 \t valid_rmse 0.940069540767534\n",
            "epoch 92 \t train_loss 0.870921250303949 \t train_rmse 0.9874376425069948 \t valid_rmse 0.935184779251098\n",
            "epoch 93 \t train_loss 0.8737316014467352 \t train_rmse 0.991416366484451 \t valid_rmse 0.9375034136249816\n",
            "epoch 94 \t train_loss 0.8724812353965654 \t train_rmse 0.9818518885899133 \t valid_rmse 0.9319714684432369\n",
            "epoch 95 \t train_loss 0.8797691727744459 \t train_rmse 0.9823920630472852 \t valid_rmse 0.9314037419024925\n",
            "epoch 96 \t train_loss 0.8806826926311053 \t train_rmse 0.965719127250512 \t valid_rmse 0.9237013551299352\n",
            "epoch 97 \t train_loss 0.8940922019433599 \t train_rmse 0.9771950840395089 \t valid_rmse 0.9267558861060494\n",
            "epoch 98 \t train_loss 0.903092354419263 \t train_rmse 0.9585434848938289 \t valid_rmse 0.9171787116637844\n",
            "epoch 99 \t train_loss 0.9175539011767915 \t train_rmse 0.9168727169433979 \t valid_rmse 0.9007619625125467\n",
            "epoch 100 \t train_loss 0.9605006987739596 \t train_rmse 0.9122967889613783 \t valid_rmse 0.8961099414195466\n",
            "total time:  110.16527843475342\n"
          ],
          "name": "stdout"
        }
      ]
    },
    {
      "cell_type": "code",
      "metadata": {
        "id": "iE86UW37a4g7",
        "colab": {
          "base_uri": "https://localhost:8080/"
        },
        "outputId": "3e5b5355-45ae-4423-bd4d-d73eb2cbefcd"
      },
      "source": [
        "test_rmse_clip = test(model, testloader, device)\n",
        "print('test rmse:', test_rmse_clip)"
      ],
      "execution_count": null,
      "outputs": [
        {
          "output_type": "stream",
          "text": [
            "test rmse: 0.9012494303942292\n"
          ],
          "name": "stdout"
        }
      ]
    },
    {
      "cell_type": "code",
      "metadata": {
        "id": "_OpAgPfzeLT4"
      },
      "source": [
        "experiment.log_metric(\"test_rmse_clip\", test_rmse_clip)\r\n",
        "wandb.log({\"test_rmse_clip\": test_rmse_clip})"
      ],
      "execution_count": null,
      "outputs": []
    },
    {
      "cell_type": "code",
      "metadata": {
        "id": "W2MUcD3WxSt6",
        "colab": {
          "base_uri": "https://localhost:8080/",
          "height": 1000,
          "referenced_widgets": [
            "813419446e714710ab9b0ba4f9b8f546",
            "9ebcc734bee64711995bcc19cbcb07ce",
            "5444582d67224531b1dc40944714197a",
            "ac9e103d5ff34fc4a19b4e1c92928e77",
            "715f3c310db045a7a674af99607ff211",
            "2cec514c58ef4bcebf059ce50cfc939d",
            "becedc24f8294b99b6b2b239b222b2a2",
            "2e6e4b916820454e8f4f06dd3c2a3b79"
          ]
        },
        "outputId": "30aa68f5-4434-4655-f3a1-e062e3bd7314"
      },
      "source": [
        "wandb_run.finish()\r\n",
        "experiment.end()"
      ],
      "execution_count": null,
      "outputs": [
        {
          "output_type": "display_data",
          "data": {
            "text/html": [
              "<br/>Waiting for W&B process to finish, PID 109<br/>Program ended successfully."
            ],
            "text/plain": [
              "<IPython.core.display.HTML object>"
            ]
          },
          "metadata": {
            "tags": []
          }
        },
        {
          "output_type": "display_data",
          "data": {
            "application/vnd.jupyter.widget-view+json": {
              "model_id": "813419446e714710ab9b0ba4f9b8f546",
              "version_minor": 0,
              "version_major": 2
            },
            "text/plain": [
              "VBox(children=(Label(value=' 0.00MB of 0.00MB uploaded (0.00MB deduped)\\r'), FloatProgress(value=1.0, max=1.0)…"
            ]
          },
          "metadata": {
            "tags": []
          }
        },
        {
          "output_type": "display_data",
          "data": {
            "text/html": [
              "Find user logs for this run at: <code>/content/wandb/run-20210106_161205-2wrteplw/logs/debug.log</code>"
            ],
            "text/plain": [
              "<IPython.core.display.HTML object>"
            ]
          },
          "metadata": {
            "tags": []
          }
        },
        {
          "output_type": "display_data",
          "data": {
            "text/html": [
              "Find internal logs for this run at: <code>/content/wandb/run-20210106_161205-2wrteplw/logs/debug-internal.log</code>"
            ],
            "text/plain": [
              "<IPython.core.display.HTML object>"
            ]
          },
          "metadata": {
            "tags": []
          }
        },
        {
          "output_type": "display_data",
          "data": {
            "text/html": [
              "<h3>Run summary:</h3><br/><style>\n",
              "    table.wandb td:nth-child(1) { padding: 0 10px; text-align: right }\n",
              "    </style><table class=\"wandb\">\n",
              "<tr><td>train_loss</td><td>0.9605</td></tr><tr><td>train_rmse_clip</td><td>0.9123</td></tr><tr><td>valid_rmse_clip</td><td>0.89611</td></tr><tr><td>_step</td><td>100</td></tr><tr><td>_runtime</td><td>135</td></tr><tr><td>_timestamp</td><td>1609949660</td></tr><tr><td>test_rmse_clip</td><td>0.90125</td></tr></table>"
            ],
            "text/plain": [
              "<IPython.core.display.HTML object>"
            ]
          },
          "metadata": {
            "tags": []
          }
        },
        {
          "output_type": "display_data",
          "data": {
            "text/html": [
              "<h3>Run history:</h3><br/><style>\n",
              "    table.wandb td:nth-child(1) { padding: 0 10px; text-align: right }\n",
              "    </style><table class=\"wandb\">\n",
              "<tr><td>train_loss</td><td>█▃▂▂▂▂▁▁▁▁▁▁▁▁▁▁▁▁▁▁▁▁▁▁▁▁▁▁▁▁▁▁▁▁▁▁▁▁▁▁</td></tr><tr><td>train_rmse_clip</td><td>█▅▄▅▅▆▅▄▄▄▄▃▃▃▃▃▃▂▂▂▂▂▂▂▂▂▂▂▂▂▂▂▂▂▂▂▂▂▂▁</td></tr><tr><td>valid_rmse_clip</td><td>█▆▅▅▅▅▅▅▄▄▄▄▃▃▃▃▃▃▂▂▂▂▂▂▂▂▂▂▂▂▁▁▁▁▁▁▁▁▁▁</td></tr><tr><td>_step</td><td>▁▁▁▁▂▂▂▂▂▃▃▃▃▃▃▄▄▄▄▄▅▅▅▅▅▅▆▆▆▆▆▇▇▇▇▇▇███</td></tr><tr><td>_runtime</td><td>▁▁▁▂▂▂▂▂▂▃▃▃▃▃▄▄▄▄▄▄▅▅▅▅▅▅▆▆▆▆▆▇▇▇▇▇▇███</td></tr><tr><td>_timestamp</td><td>▁▁▁▂▂▂▂▂▂▃▃▃▃▃▄▄▄▄▄▄▅▅▅▅▅▅▆▆▆▆▆▇▇▇▇▇▇███</td></tr><tr><td>test_rmse_clip</td><td>▁</td></tr></table><br/>"
            ],
            "text/plain": [
              "<IPython.core.display.HTML object>"
            ]
          },
          "metadata": {
            "tags": []
          }
        },
        {
          "output_type": "display_data",
          "data": {
            "text/html": [
              "Synced 5 W&B file(s), 1 media file(s), 0 artifact file(s) and 0 other file(s)"
            ],
            "text/plain": [
              "<IPython.core.display.HTML object>"
            ]
          },
          "metadata": {
            "tags": []
          }
        },
        {
          "output_type": "display_data",
          "data": {
            "text/html": [
              "\n",
              "                    <br/>Synced <strong style=\"color:#cdcd00\">different-firefly-58</strong>: <a href=\"https://wandb.ai/van26101998/deeprec-new-ml1m/runs/2wrteplw\" target=\"_blank\">https://wandb.ai/van26101998/deeprec-new-ml1m/runs/2wrteplw</a><br/>\n",
              "                "
            ],
            "text/plain": [
              "<IPython.core.display.HTML object>"
            ]
          },
          "metadata": {
            "tags": []
          }
        },
        {
          "output_type": "stream",
          "text": [
            "COMET INFO: ---------------------------\n",
            "COMET INFO: Comet.ml Experiment Summary\n",
            "COMET INFO: ---------------------------\n",
            "COMET INFO:   Data:\n",
            "COMET INFO:     display_summary_level : 1\n",
            "COMET INFO:     url                   : https://www.comet.ml/van26101998/deeprec-new-ml1m/d2fdb5df6f7b4c198ad05cae97f5a717\n",
            "COMET INFO:   Metrics [count] (min, max):\n",
            "COMET INFO:     loss [120]            : (0.840811014175415, 10.928566932678223)\n",
            "COMET INFO:     test_rmse_clip        : 0.9012494303942292\n",
            "COMET INFO:     train_loss [100]      : (0.870921250303949, 8.933366718857423)\n",
            "COMET INFO:     train_rmse_clip [100] : (0.9122967889613783, 1.6881575236094908)\n",
            "COMET INFO:     valid_rmse_clip [100] : (0.8961099414195466, 1.7038445458673808)\n",
            "COMET INFO:   Parameters:\n",
            "COMET INFO:     activation     : selu\n",
            "COMET INFO:     batch_size     : 512\n",
            "COMET INFO:     device         : cuda\n",
            "COMET INFO:     dropout        : 0.9\n",
            "COMET INFO:     epochs         : 100\n",
            "COMET INFO:     is_constrained : True\n",
            "COMET INFO:     layer_sizes    : [3706, 512, 512, 1024]\n",
            "COMET INFO:     lr             : 0.005\n",
            "COMET INFO:     momentum       : 0.9\n",
            "COMET INFO:     optimizer      : SGD (\n",
            "Parameter Group 0\n",
            "    dampening: 0\n",
            "    lr: 0.005\n",
            "    momentum: 0.9\n",
            "    nesterov: False\n",
            "    weight_decay: 0\n",
            ")\n",
            "COMET INFO:     seed           : 1\n",
            "COMET INFO:   Uploads:\n",
            "COMET INFO:     code                : 1 (8 KB)\n",
            "COMET INFO:     environment details : 1\n",
            "COMET INFO:     filename            : 1\n",
            "COMET INFO:     installed packages  : 1\n",
            "COMET INFO:     model graph         : 1\n",
            "COMET INFO:     notebook            : 1\n",
            "COMET INFO:     os packages         : 1\n",
            "COMET INFO: ---------------------------\n",
            "COMET INFO: Uploading stats to Comet before program termination (may take several seconds)\n"
          ],
          "name": "stderr"
        }
      ]
    },
    {
      "cell_type": "code",
      "metadata": {
        "colab": {
          "base_uri": "https://localhost:8080/"
        },
        "id": "BlPEoT9s-JZ6",
        "outputId": "f75dcf9d-9bef-4965-fed7-e6c3e980caf7"
      },
      "source": [
        "trainset[0].sum()"
      ],
      "execution_count": null,
      "outputs": [
        {
          "output_type": "execute_result",
          "data": {
            "text/plain": [
              "tensor(184.)"
            ]
          },
          "metadata": {
            "tags": []
          },
          "execution_count": 28
        }
      ]
    },
    {
      "cell_type": "code",
      "metadata": {
        "id": "P3rpgTRNNdZh"
      },
      "source": [
        "\r\n",
        "out = model(torch.FloatTensor(trainset[0]).to(device))"
      ],
      "execution_count": null,
      "outputs": []
    },
    {
      "cell_type": "code",
      "metadata": {
        "colab": {
          "base_uri": "https://localhost:8080/"
        },
        "id": "DLz3Sw4WNkoG",
        "outputId": "33032ca2-9a7b-4854-c0a0-088b35a3c7fb"
      },
      "source": [
        "for i, data in enumerate(trainset[0]):\r\n",
        "    if data > 0:\r\n",
        "        print(data.item(), out[i].item())"
      ],
      "execution_count": null,
      "outputs": [
        {
          "output_type": "stream",
          "text": [
            "5.0 4.296086311340332\n",
            "5.0 2.9972264766693115\n",
            "4.0 4.591500759124756\n",
            "5.0 4.787888050079346\n",
            "4.0 3.6943352222442627\n",
            "4.0 4.150211811065674\n",
            "5.0 3.8260910511016846\n",
            "3.0 2.81754469871521\n",
            "3.0 4.17350435256958\n",
            "3.0 4.108846187591553\n",
            "4.0 3.1970226764678955\n",
            "3.0 4.244326114654541\n",
            "4.0 4.247074604034424\n",
            "5.0 3.799407958984375\n",
            "5.0 3.897704601287842\n",
            "5.0 3.429720640182495\n",
            "5.0 3.95233154296875\n",
            "4.0 4.261758327484131\n",
            "3.0 4.179635047912598\n",
            "4.0 4.138547897338867\n",
            "5.0 4.420731067657471\n",
            "5.0 4.045830249786377\n",
            "4.0 3.5138978958129883\n",
            "4.0 3.5121426582336426\n",
            "4.0 3.6441495418548584\n",
            "5.0 3.080186605453491\n",
            "4.0 3.5250449180603027\n",
            "5.0 4.223467826843262\n",
            "4.0 3.650820732116699\n",
            "5.0 4.505273342132568\n",
            "4.0 3.093581438064575\n",
            "3.0 3.7022030353546143\n",
            "3.0 3.10095477104187\n",
            "5.0 3.8921313285827637\n",
            "4.0 3.89554762840271\n",
            "3.0 3.4256186485290527\n",
            "4.0 3.575822353363037\n",
            "4.0 3.828672409057617\n",
            "5.0 4.424103260040283\n",
            "4.0 4.306410789489746\n",
            "5.0 3.786360025405884\n",
            "4.0 4.239483833312988\n",
            "4.0 3.4903810024261475\n",
            "4.0 3.9164211750030518\n"
          ],
          "name": "stdout"
        }
      ]
    },
    {
      "cell_type": "code",
      "metadata": {
        "id": "zKW-OGCPPCAs"
      },
      "source": [
        ""
      ],
      "execution_count": null,
      "outputs": []
    }
  ]
}