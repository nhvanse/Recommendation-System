{
  "nbformat": 4,
  "nbformat_minor": 0,
  "metadata": {
    "colab": {
      "name": "KNN.ipynb",
      "provenance": [],
      "collapsed_sections": [
        "gqOrx7vjM1Kg",
        "RpcgJwXhVwuM"
      ],
      "authorship_tag": "ABX9TyMTnbPFlj2OpG59imuahzTy",
      "include_colab_link": true
    },
    "kernelspec": {
      "display_name": "Python 3",
      "name": "python3"
    }
  },
  "cells": [
    {
      "cell_type": "markdown",
      "metadata": {
        "id": "view-in-github",
        "colab_type": "text"
      },
      "source": [
        "<a href=\"https://colab.research.google.com/github/van26101998/Recommendation-System/blob/main/KNN.ipynb\" target=\"_parent\"><img src=\"https://colab.research.google.com/assets/colab-badge.svg\" alt=\"Open In Colab\"/></a>"
      ]
    },
    {
      "cell_type": "markdown",
      "metadata": {
        "id": "gqOrx7vjM1Kg"
      },
      "source": [
        "# Install and import"
      ]
    },
    {
      "cell_type": "code",
      "metadata": {
        "id": "nPnhAxoAGUJ2"
      },
      "source": [
        "# install required packages\r\n",
        "!pip install -q comet_ml wandb"
      ],
      "execution_count": 1,
      "outputs": []
    },
    {
      "cell_type": "code",
      "metadata": {
        "colab": {
          "base_uri": "https://localhost:8080/",
          "height": 0
        },
        "id": "F0YC3tqBGU0e",
        "outputId": "9187c0ea-5587-48b6-ffec-66b6b25ff792"
      },
      "source": [
        "import wandb\r\n",
        "wandb_run = wandb.init(project=\"knn\")"
      ],
      "execution_count": 2,
      "outputs": [
        {
          "output_type": "stream",
          "text": [
            "\u001b[34m\u001b[1mwandb\u001b[0m: Currently logged in as: \u001b[33mvan26101998\u001b[0m (use `wandb login --relogin` to force relogin)\n"
          ],
          "name": "stderr"
        },
        {
          "output_type": "display_data",
          "data": {
            "text/html": [
              "\n",
              "                Tracking run with wandb version 0.10.12<br/>\n",
              "                Syncing run <strong style=\"color:#cdcd00\">soft-energy-11</strong> to <a href=\"https://wandb.ai\" target=\"_blank\">Weights & Biases</a> <a href=\"https://docs.wandb.com/integrations/jupyter.html\" target=\"_blank\">(Documentation)</a>.<br/>\n",
              "                Project page: <a href=\"https://wandb.ai/van26101998/knn\" target=\"_blank\">https://wandb.ai/van26101998/knn</a><br/>\n",
              "                Run page: <a href=\"https://wandb.ai/van26101998/knn/runs/21a2ns7q\" target=\"_blank\">https://wandb.ai/van26101998/knn/runs/21a2ns7q</a><br/>\n",
              "                Run data is saved locally in <code>/content/wandb/run-20210107_004734-21a2ns7q</code><br/><br/>\n",
              "            "
            ],
            "text/plain": [
              "<IPython.core.display.HTML object>"
            ]
          },
          "metadata": {
            "tags": []
          }
        }
      ]
    },
    {
      "cell_type": "code",
      "metadata": {
        "id": "bR0jR6_WnAF-"
      },
      "source": [
        "import pandas as pd \r\n",
        "import numpy as np\r\n",
        "from sklearn.metrics.pairwise import cosine_similarity\r\n",
        "from scipy import sparse \r\n",
        "import zipfile\r\n",
        "from sklearn.model_selection import train_test_split\r\n",
        "from time import time"
      ],
      "execution_count": 3,
      "outputs": []
    },
    {
      "cell_type": "markdown",
      "metadata": {
        "id": "RpcgJwXhVwuM"
      },
      "source": [
        "# Movielens 1M Dataset"
      ]
    },
    {
      "cell_type": "code",
      "metadata": {
        "colab": {
          "base_uri": "https://localhost:8080/"
        },
        "id": "pFz80uYndbKA",
        "outputId": "65bc4443-4bcd-46e5-f4bb-cce14a9009f8"
      },
      "source": [
        "!wget -c http://files.grouplens.org/datasets/movielens/ml-1m.zip\r\n",
        "import zipfile\r\n",
        "with zipfile.ZipFile('ml-1m.zip', 'r') as zip_ref:\r\n",
        "    zip_ref.extractall()"
      ],
      "execution_count": 4,
      "outputs": [
        {
          "output_type": "stream",
          "text": [
            "--2021-01-07 00:47:36--  http://files.grouplens.org/datasets/movielens/ml-1m.zip\n",
            "Resolving files.grouplens.org (files.grouplens.org)... 128.101.65.152\n",
            "Connecting to files.grouplens.org (files.grouplens.org)|128.101.65.152|:80... connected.\n",
            "HTTP request sent, awaiting response... 416 Requested Range Not Satisfiable\n",
            "\n",
            "    The file is already fully retrieved; nothing to do.\n",
            "\n"
          ],
          "name": "stdout"
        }
      ]
    },
    {
      "cell_type": "code",
      "metadata": {
        "colab": {
          "base_uri": "https://localhost:8080/",
          "height": 0
        },
        "id": "XjjA0peCTfaZ",
        "outputId": "5a47236a-83b3-4769-cfd3-795d7d4b51eb"
      },
      "source": [
        "ratings_df = pd.read_csv('./ml-1m/ratings.dat', sep=\"::\", engine='python', names=['user', 'item', 'rating', 'timestamp'])\r\n",
        "users = sorted(ratings_df['user'].unique())\r\n",
        "items = sorted(ratings_df['item'].unique())\r\n",
        "ratings_df"
      ],
      "execution_count": 5,
      "outputs": [
        {
          "output_type": "execute_result",
          "data": {
            "text/html": [
              "<div>\n",
              "<style scoped>\n",
              "    .dataframe tbody tr th:only-of-type {\n",
              "        vertical-align: middle;\n",
              "    }\n",
              "\n",
              "    .dataframe tbody tr th {\n",
              "        vertical-align: top;\n",
              "    }\n",
              "\n",
              "    .dataframe thead th {\n",
              "        text-align: right;\n",
              "    }\n",
              "</style>\n",
              "<table border=\"1\" class=\"dataframe\">\n",
              "  <thead>\n",
              "    <tr style=\"text-align: right;\">\n",
              "      <th></th>\n",
              "      <th>user</th>\n",
              "      <th>item</th>\n",
              "      <th>rating</th>\n",
              "      <th>timestamp</th>\n",
              "    </tr>\n",
              "  </thead>\n",
              "  <tbody>\n",
              "    <tr>\n",
              "      <th>0</th>\n",
              "      <td>1</td>\n",
              "      <td>1193</td>\n",
              "      <td>5</td>\n",
              "      <td>978300760</td>\n",
              "    </tr>\n",
              "    <tr>\n",
              "      <th>1</th>\n",
              "      <td>1</td>\n",
              "      <td>661</td>\n",
              "      <td>3</td>\n",
              "      <td>978302109</td>\n",
              "    </tr>\n",
              "    <tr>\n",
              "      <th>2</th>\n",
              "      <td>1</td>\n",
              "      <td>914</td>\n",
              "      <td>3</td>\n",
              "      <td>978301968</td>\n",
              "    </tr>\n",
              "    <tr>\n",
              "      <th>3</th>\n",
              "      <td>1</td>\n",
              "      <td>3408</td>\n",
              "      <td>4</td>\n",
              "      <td>978300275</td>\n",
              "    </tr>\n",
              "    <tr>\n",
              "      <th>4</th>\n",
              "      <td>1</td>\n",
              "      <td>2355</td>\n",
              "      <td>5</td>\n",
              "      <td>978824291</td>\n",
              "    </tr>\n",
              "    <tr>\n",
              "      <th>...</th>\n",
              "      <td>...</td>\n",
              "      <td>...</td>\n",
              "      <td>...</td>\n",
              "      <td>...</td>\n",
              "    </tr>\n",
              "    <tr>\n",
              "      <th>1000204</th>\n",
              "      <td>6040</td>\n",
              "      <td>1091</td>\n",
              "      <td>1</td>\n",
              "      <td>956716541</td>\n",
              "    </tr>\n",
              "    <tr>\n",
              "      <th>1000205</th>\n",
              "      <td>6040</td>\n",
              "      <td>1094</td>\n",
              "      <td>5</td>\n",
              "      <td>956704887</td>\n",
              "    </tr>\n",
              "    <tr>\n",
              "      <th>1000206</th>\n",
              "      <td>6040</td>\n",
              "      <td>562</td>\n",
              "      <td>5</td>\n",
              "      <td>956704746</td>\n",
              "    </tr>\n",
              "    <tr>\n",
              "      <th>1000207</th>\n",
              "      <td>6040</td>\n",
              "      <td>1096</td>\n",
              "      <td>4</td>\n",
              "      <td>956715648</td>\n",
              "    </tr>\n",
              "    <tr>\n",
              "      <th>1000208</th>\n",
              "      <td>6040</td>\n",
              "      <td>1097</td>\n",
              "      <td>4</td>\n",
              "      <td>956715569</td>\n",
              "    </tr>\n",
              "  </tbody>\n",
              "</table>\n",
              "<p>1000209 rows × 4 columns</p>\n",
              "</div>"
            ],
            "text/plain": [
              "         user  item  rating  timestamp\n",
              "0           1  1193       5  978300760\n",
              "1           1   661       3  978302109\n",
              "2           1   914       3  978301968\n",
              "3           1  3408       4  978300275\n",
              "4           1  2355       5  978824291\n",
              "...       ...   ...     ...        ...\n",
              "1000204  6040  1091       1  956716541\n",
              "1000205  6040  1094       5  956704887\n",
              "1000206  6040   562       5  956704746\n",
              "1000207  6040  1096       4  956715648\n",
              "1000208  6040  1097       4  956715569\n",
              "\n",
              "[1000209 rows x 4 columns]"
            ]
          },
          "metadata": {
            "tags": []
          },
          "execution_count": 5
        }
      ]
    },
    {
      "cell_type": "code",
      "metadata": {
        "id": "YN7eFrMtU0Gy"
      },
      "source": [
        "# train validate test split\r\n",
        "train_df, test_df = train_test_split(ratings_df, test_size=0.1)\r\n",
        "train_df, validate_df = train_test_split(train_df, test_size=0.1)"
      ],
      "execution_count": 6,
      "outputs": []
    },
    {
      "cell_type": "code",
      "metadata": {
        "colab": {
          "base_uri": "https://localhost:8080/"
        },
        "id": "YoMoTusznlCp",
        "outputId": "125dde50-8a50-4f51-d645-6f5d5d1152f1"
      },
      "source": [
        "print(\"number of train-validate-test:\", len(train_df), len(validate_df), len(test_df))"
      ],
      "execution_count": 7,
      "outputs": [
        {
          "output_type": "stream",
          "text": [
            "number of train-validate-test: 810169 90019 100021\n"
          ],
          "name": "stdout"
        }
      ]
    },
    {
      "cell_type": "markdown",
      "metadata": {
        "id": "iGIDZsoAo0oO"
      },
      "source": [
        "# Model"
      ]
    },
    {
      "cell_type": "code",
      "metadata": {
        "id": "domC8XCPoFEW"
      },
      "source": [
        "class KNNCF:\r\n",
        "    \"\"\"\r\n",
        "        K-nearest-neighbor colaborative filtering\r\n",
        "        Params:\r\n",
        "            ratings_df: DataFrame contains user, item, rating, timestamp\r\n",
        "            users: sorted list of users\r\n",
        "            items: sorted list of items\r\n",
        "            k: number of neighbors\r\n",
        "            dist_func: function to calculate similarity\r\n",
        "            uuCF: user-user CF if True, otherwise item-item CF\r\n",
        "    \"\"\"\r\n",
        "    def __init__(self, ratings_df, users, items, k, dist_func = cosine_similarity, uuCF = True):\r\n",
        "        \r\n",
        "        self.n_users = len(users)\r\n",
        "        self.n_items = len(items)\r\n",
        "\r\n",
        "        self.user_to_id = {user:id for id, user in enumerate(users)}\r\n",
        "        self.item_to_id = {item:id for id, item in enumerate(items)}\r\n",
        "        \r\n",
        "        self.ratings_df = ratings_df.copy()\r\n",
        "        self.ratings_df['user'] = self.ratings_df['user'].apply(lambda x: self.user_to_id[x])\r\n",
        "        self.ratings_df['item'] = self.ratings_df['item'].apply(lambda x: self.item_to_id[x])\r\n",
        "        \r\n",
        "\r\n",
        "        self.Y_data = self.ratings_df.to_numpy() \r\n",
        "        self.k = k \r\n",
        "        self.dist_func = dist_func\r\n",
        "        self.uuCF = uuCF\r\n",
        "        if not uuCF:\r\n",
        "            self.Y_data = self.Y_data[:, [1, 0, 2]]\r\n",
        "            self.n_items, self.n_users = self.n_users, self.n_items\r\n",
        "\r\n",
        "        self.Ybar_data = None        \r\n",
        "\r\n",
        "    \r\n",
        "    def normalize_Y(self):\r\n",
        "        users = self.Y_data[:, 0]\r\n",
        "        self.Ybar_data = self.Y_data.copy()\r\n",
        "        \r\n",
        "        self.mu = np.zeros((self.n_users,))\r\n",
        "        for user_id in range(self.n_users):\r\n",
        "            # row indices of rating done by user n\r\n",
        "            ids = np.where(users == user_id)[0].astype(np.int32)\r\n",
        "            \r\n",
        "            item_ids = self.Y_data[ids, 1] \r\n",
        "            ratings = self.Y_data[ids, 2]\r\n",
        "            \r\n",
        "            # take mean\r\n",
        "            m = np.mean(ratings) \r\n",
        "            if np.isnan(m):\r\n",
        "                m = 0 # to avoid empty array and nan value\r\n",
        "            self.mu[user_id] = m\r\n",
        "            \r\n",
        "            # normalize\r\n",
        "            self.Ybar_data[ids, 2] = ratings - np.full((len(ratings),), m)\r\n",
        "        \r\n",
        "        #store nonzeros only and their locations\r\n",
        "        self.Ybar = sparse.coo_matrix((self.Ybar_data[:, 2],\r\n",
        "            (self.Ybar_data[:, 1], self.Ybar_data[:, 0])), (self.n_items, self.n_users))\r\n",
        "        self.Ybar = self.Ybar.tocsr()\r\n",
        "\r\n",
        "            \r\n",
        "\r\n",
        "    def similarity(self):\r\n",
        "        self.S = self.dist_func(self.Ybar.T, self.Ybar.T)  \r\n",
        "    \r\n",
        "    def fit(self):\r\n",
        "        self.normalize_Y()\r\n",
        "        self.similarity()\r\n",
        "    \r\n",
        "\r\n",
        "    def __pred(self, u_id, i_id, normalize = 1):\r\n",
        "        \"\"\" \r\n",
        "        predict the rating of user u for item i (normalized)\r\n",
        "        \"\"\"\r\n",
        "        # Step 1: find all users who rated i\r\n",
        "        ids = np.where(self.Y_data[:, 1] == i_id)[0].astype(np.int32)\r\n",
        "        # Step 2: \r\n",
        "        users_rated_i = (self.Y_data[ids, 0]).astype(np.int32)\r\n",
        "        # Step 3: find similarity btw the current user and others \r\n",
        "        # who already rated i\r\n",
        "        sim = self.S[u_id, users_rated_i]\r\n",
        "        # Step 4: find the k most similarity users\r\n",
        "        a = np.argsort(sim)[-self.k:] \r\n",
        "        # and the corresponding similarity levels\r\n",
        "        nearest_s = sim[a]\r\n",
        "        # How did each of 'near' users rated item i\r\n",
        "        r = self.Ybar[i_id, users_rated_i[a]]\r\n",
        "        if normalize:\r\n",
        "            # add a small number, for instance, 1e-8, to avoid dividing by 0\r\n",
        "            return (r*nearest_s)[0]/(np.abs(nearest_s).sum() + 1e-8)\r\n",
        "\r\n",
        "        return (r*nearest_s)[0]/(np.abs(nearest_s).sum() + 1e-8) + self.mu[u_id]\r\n",
        "    \r\n",
        "    def pred(self, u_id, i_id, normalize = 1):\r\n",
        "        \"\"\" \r\n",
        "        predict the rating of user u for item i (normalize)\r\n",
        "        \"\"\"\r\n",
        "        if self.uuCF: return self.__pred(u_id, i_id, normalize)\r\n",
        "        return self.__pred(i_id, u_id, normalize)\r\n",
        "    \r\n",
        "    def pred_real(self, user, item, normalize = 1):\r\n",
        "        u_id = self.user_to_id[user]\r\n",
        "        i_id = self.item_to_id[item]\r\n",
        "        \r\n",
        "        return self.pred(u_id, i_id, normalize)"
      ],
      "execution_count": 8,
      "outputs": []
    },
    {
      "cell_type": "markdown",
      "metadata": {
        "id": "tWPCp66_MwUp"
      },
      "source": [
        "# Run"
      ]
    },
    {
      "cell_type": "code",
      "metadata": {
        "id": "JC5CtxQ3Gh2K"
      },
      "source": [
        "k = 30\r\n",
        "uuCF = False"
      ],
      "execution_count": 9,
      "outputs": []
    },
    {
      "cell_type": "code",
      "metadata": {
        "id": "VMC9j75VDciI"
      },
      "source": [
        "params = {\r\n",
        "    \"k\": k,\r\n",
        "    'uuCF': uuCF\r\n",
        "}\r\n",
        "wandb.config.update(params)"
      ],
      "execution_count": 10,
      "outputs": []
    },
    {
      "cell_type": "code",
      "metadata": {
        "id": "05o5lCN6t4LH"
      },
      "source": [
        "knncf = KNNCF(train_df, users, items, k=k, uuCF=uuCF)"
      ],
      "execution_count": 11,
      "outputs": []
    },
    {
      "cell_type": "code",
      "metadata": {
        "colab": {
          "base_uri": "https://localhost:8080/"
        },
        "id": "id-z-VJByItK",
        "outputId": "8d4c09ed-ba60-44ad-cb04-5ff8b8d8c054"
      },
      "source": [
        "t0 = time()\r\n",
        "\r\n",
        "knncf.fit()\r\n",
        "\r\n",
        "fit_time = time() - t0\r\n",
        "print(\"fit_time:\", fit_time)"
      ],
      "execution_count": null,
      "outputs": [
        {
          "output_type": "stream",
          "text": [
            "/usr/local/lib/python3.6/dist-packages/numpy/core/fromnumeric.py:3373: RuntimeWarning: Mean of empty slice.\n",
            "  out=out, **kwargs)\n",
            "/usr/local/lib/python3.6/dist-packages/numpy/core/_methods.py:170: RuntimeWarning: invalid value encountered in double_scalars\n",
            "  ret = ret.dtype.type(ret / rcount)\n"
          ],
          "name": "stderr"
        }
      ]
    },
    {
      "cell_type": "code",
      "metadata": {
        "id": "C7Ilbho21_hs"
      },
      "source": [
        "t0 = time()\r\n",
        "square_error = 0.0\r\n",
        "\r\n",
        "for user, item, rating, timestamp in test_df.to_numpy():\r\n",
        "    pred = knncf.pred_real(user, item, normalize=0)\r\n",
        "    square_error += (rating - pred)**2\r\n",
        "\r\n",
        "mse = square_error / len(test_df)\r\n",
        "rmse = np.sqrt(mse)\r\n",
        "print(\"rmse:\", rmse)\r\n",
        "\r\n",
        "test_time = time() - t0\r\n",
        "print(\"test time:\", test_time)"
      ],
      "execution_count": null,
      "outputs": []
    },
    {
      "cell_type": "code",
      "metadata": {
        "id": "u9TUEOjU3HqJ"
      },
      "source": [
        "wandb.log({\r\n",
        "    \"test_rmse\": rmse,\r\n",
        "    \"fit_time\": fit_time,\r\n",
        "    \"test_time\": test_time\r\n",
        "})"
      ],
      "execution_count": null,
      "outputs": []
    },
    {
      "cell_type": "code",
      "metadata": {
        "id": "7OslIY02HOaC"
      },
      "source": [
        "wandb_run.finish()"
      ],
      "execution_count": null,
      "outputs": []
    },
    {
      "cell_type": "code",
      "metadata": {
        "id": "DcozbbirHk7e"
      },
      "source": [
        "for user, item, rating, timestamp in test_df.to_numpy()[:10]:\r\n",
        "    pred = knncf.pred_real(user, item, normalize=0)\r\n",
        "    print(\"rating:\", rating, '\\tpred:', pred)"
      ],
      "execution_count": null,
      "outputs": []
    }
  ]
}