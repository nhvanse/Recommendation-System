{
  "nbformat": 4,
  "nbformat_minor": 0,
  "metadata": {
    "colab": {
      "name": "MF.ipynb",
      "provenance": [],
      "collapsed_sections": [
        "ccd3-Fs7aPSY"
      ],
      "authorship_tag": "ABX9TyPCxb73xkgDKyWs94zhM2xu",
      "include_colab_link": true
    },
    "kernelspec": {
      "name": "python3",
      "display_name": "Python 3"
    },
    "accelerator": "GPU",
    "widgets": {
      "application/vnd.jupyter.widget-state+json": {
        "93408ecc4628461ba537c0e57e7b0b93": {
          "model_module": "@jupyter-widgets/controls",
          "model_name": "VBoxModel",
          "state": {
            "_view_name": "VBoxView",
            "_dom_classes": [],
            "_model_name": "VBoxModel",
            "_view_module": "@jupyter-widgets/controls",
            "_model_module_version": "1.5.0",
            "_view_count": null,
            "_view_module_version": "1.5.0",
            "box_style": "",
            "layout": "IPY_MODEL_e9a31829a4f54897b15de960f094716f",
            "_model_module": "@jupyter-widgets/controls",
            "children": [
              "IPY_MODEL_feee5ad852614aabba3a51074322b37a",
              "IPY_MODEL_89fae1527cd9433986070761fd930d81"
            ]
          }
        },
        "e9a31829a4f54897b15de960f094716f": {
          "model_module": "@jupyter-widgets/base",
          "model_name": "LayoutModel",
          "state": {
            "_view_name": "LayoutView",
            "grid_template_rows": null,
            "right": null,
            "justify_content": null,
            "_view_module": "@jupyter-widgets/base",
            "overflow": null,
            "_model_module_version": "1.2.0",
            "_view_count": null,
            "flex_flow": null,
            "width": null,
            "min_width": null,
            "border": null,
            "align_items": null,
            "bottom": null,
            "_model_module": "@jupyter-widgets/base",
            "top": null,
            "grid_column": null,
            "overflow_y": null,
            "overflow_x": null,
            "grid_auto_flow": null,
            "grid_area": null,
            "grid_template_columns": null,
            "flex": null,
            "_model_name": "LayoutModel",
            "justify_items": null,
            "grid_row": null,
            "max_height": null,
            "align_content": null,
            "visibility": null,
            "align_self": null,
            "height": null,
            "min_height": null,
            "padding": null,
            "grid_auto_rows": null,
            "grid_gap": null,
            "max_width": null,
            "order": null,
            "_view_module_version": "1.2.0",
            "grid_template_areas": null,
            "object_position": null,
            "object_fit": null,
            "grid_auto_columns": null,
            "margin": null,
            "display": null,
            "left": null
          }
        },
        "feee5ad852614aabba3a51074322b37a": {
          "model_module": "@jupyter-widgets/controls",
          "model_name": "LabelModel",
          "state": {
            "_view_name": "LabelView",
            "style": "IPY_MODEL_a51d31faab3347f5b58bcac41fd2358d",
            "_dom_classes": [],
            "description": "",
            "_model_name": "LabelModel",
            "placeholder": "​",
            "_view_module": "@jupyter-widgets/controls",
            "_model_module_version": "1.5.0",
            "value": " 0.02MB of 0.02MB uploaded (0.00MB deduped)\r",
            "_view_count": null,
            "_view_module_version": "1.5.0",
            "description_tooltip": null,
            "_model_module": "@jupyter-widgets/controls",
            "layout": "IPY_MODEL_503ca5c74f714cb49398a6a66684ce89"
          }
        },
        "89fae1527cd9433986070761fd930d81": {
          "model_module": "@jupyter-widgets/controls",
          "model_name": "FloatProgressModel",
          "state": {
            "_view_name": "ProgressView",
            "style": "IPY_MODEL_2e7ddddacb59400dbb36a5bb54855ff7",
            "_dom_classes": [],
            "description": "",
            "_model_name": "FloatProgressModel",
            "bar_style": "",
            "max": 1,
            "_view_module": "@jupyter-widgets/controls",
            "_model_module_version": "1.5.0",
            "value": 1,
            "_view_count": null,
            "_view_module_version": "1.5.0",
            "orientation": "horizontal",
            "min": 0,
            "description_tooltip": null,
            "_model_module": "@jupyter-widgets/controls",
            "layout": "IPY_MODEL_55e001575c574f88829473fcb166caab"
          }
        },
        "a51d31faab3347f5b58bcac41fd2358d": {
          "model_module": "@jupyter-widgets/controls",
          "model_name": "DescriptionStyleModel",
          "state": {
            "_view_name": "StyleView",
            "_model_name": "DescriptionStyleModel",
            "description_width": "",
            "_view_module": "@jupyter-widgets/base",
            "_model_module_version": "1.5.0",
            "_view_count": null,
            "_view_module_version": "1.2.0",
            "_model_module": "@jupyter-widgets/controls"
          }
        },
        "503ca5c74f714cb49398a6a66684ce89": {
          "model_module": "@jupyter-widgets/base",
          "model_name": "LayoutModel",
          "state": {
            "_view_name": "LayoutView",
            "grid_template_rows": null,
            "right": null,
            "justify_content": null,
            "_view_module": "@jupyter-widgets/base",
            "overflow": null,
            "_model_module_version": "1.2.0",
            "_view_count": null,
            "flex_flow": null,
            "width": null,
            "min_width": null,
            "border": null,
            "align_items": null,
            "bottom": null,
            "_model_module": "@jupyter-widgets/base",
            "top": null,
            "grid_column": null,
            "overflow_y": null,
            "overflow_x": null,
            "grid_auto_flow": null,
            "grid_area": null,
            "grid_template_columns": null,
            "flex": null,
            "_model_name": "LayoutModel",
            "justify_items": null,
            "grid_row": null,
            "max_height": null,
            "align_content": null,
            "visibility": null,
            "align_self": null,
            "height": null,
            "min_height": null,
            "padding": null,
            "grid_auto_rows": null,
            "grid_gap": null,
            "max_width": null,
            "order": null,
            "_view_module_version": "1.2.0",
            "grid_template_areas": null,
            "object_position": null,
            "object_fit": null,
            "grid_auto_columns": null,
            "margin": null,
            "display": null,
            "left": null
          }
        },
        "2e7ddddacb59400dbb36a5bb54855ff7": {
          "model_module": "@jupyter-widgets/controls",
          "model_name": "ProgressStyleModel",
          "state": {
            "_view_name": "StyleView",
            "_model_name": "ProgressStyleModel",
            "description_width": "",
            "_view_module": "@jupyter-widgets/base",
            "_model_module_version": "1.5.0",
            "_view_count": null,
            "_view_module_version": "1.2.0",
            "bar_color": null,
            "_model_module": "@jupyter-widgets/controls"
          }
        },
        "55e001575c574f88829473fcb166caab": {
          "model_module": "@jupyter-widgets/base",
          "model_name": "LayoutModel",
          "state": {
            "_view_name": "LayoutView",
            "grid_template_rows": null,
            "right": null,
            "justify_content": null,
            "_view_module": "@jupyter-widgets/base",
            "overflow": null,
            "_model_module_version": "1.2.0",
            "_view_count": null,
            "flex_flow": null,
            "width": null,
            "min_width": null,
            "border": null,
            "align_items": null,
            "bottom": null,
            "_model_module": "@jupyter-widgets/base",
            "top": null,
            "grid_column": null,
            "overflow_y": null,
            "overflow_x": null,
            "grid_auto_flow": null,
            "grid_area": null,
            "grid_template_columns": null,
            "flex": null,
            "_model_name": "LayoutModel",
            "justify_items": null,
            "grid_row": null,
            "max_height": null,
            "align_content": null,
            "visibility": null,
            "align_self": null,
            "height": null,
            "min_height": null,
            "padding": null,
            "grid_auto_rows": null,
            "grid_gap": null,
            "max_width": null,
            "order": null,
            "_view_module_version": "1.2.0",
            "grid_template_areas": null,
            "object_position": null,
            "object_fit": null,
            "grid_auto_columns": null,
            "margin": null,
            "display": null,
            "left": null
          }
        }
      }
    }
  },
  "cells": [
    {
      "cell_type": "markdown",
      "metadata": {
        "id": "view-in-github",
        "colab_type": "text"
      },
      "source": [
        "<a href=\"https://colab.research.google.com/github/van26101998/Recommendation-System/blob/main/MF.ipynb\" target=\"_parent\"><img src=\"https://colab.research.google.com/assets/colab-badge.svg\" alt=\"Open In Colab\"/></a>"
      ]
    },
    {
      "cell_type": "code",
      "metadata": {
        "id": "e8UVl73NiPqz"
      },
      "source": [
        "# install required packages\r\n",
        "!pip install -q comet_ml wandb"
      ],
      "execution_count": null,
      "outputs": []
    },
    {
      "cell_type": "code",
      "metadata": {
        "colab": {
          "base_uri": "https://localhost:8080/",
          "height": 134
        },
        "id": "HYCaEVpziROS",
        "outputId": "ce20e44d-d965-40ec-ea9d-4b6c936720b1"
      },
      "source": [
        "import wandb\r\n",
        "wandb_run = wandb.init(project=\"mf\")"
      ],
      "execution_count": null,
      "outputs": [
        {
          "output_type": "stream",
          "text": [
            "\u001b[34m\u001b[1mwandb\u001b[0m: Currently logged in as: \u001b[33mvan26101998\u001b[0m (use `wandb login --relogin` to force relogin)\n"
          ],
          "name": "stderr"
        },
        {
          "output_type": "display_data",
          "data": {
            "text/html": [
              "\n",
              "                Tracking run with wandb version 0.10.12<br/>\n",
              "                Syncing run <strong style=\"color:#cdcd00\">wise-voice-10</strong> to <a href=\"https://wandb.ai\" target=\"_blank\">Weights & Biases</a> <a href=\"https://docs.wandb.com/integrations/jupyter.html\" target=\"_blank\">(Documentation)</a>.<br/>\n",
              "                Project page: <a href=\"https://wandb.ai/van26101998/mf\" target=\"_blank\">https://wandb.ai/van26101998/mf</a><br/>\n",
              "                Run page: <a href=\"https://wandb.ai/van26101998/mf/runs/20iyydci\" target=\"_blank\">https://wandb.ai/van26101998/mf/runs/20iyydci</a><br/>\n",
              "                Run data is saved locally in <code>/content/wandb/run-20210106_225716-20iyydci</code><br/><br/>\n",
              "            "
            ],
            "text/plain": [
              "<IPython.core.display.HTML object>"
            ]
          },
          "metadata": {
            "tags": []
          }
        }
      ]
    },
    {
      "cell_type": "code",
      "metadata": {
        "id": "acuE2D6QUEPZ"
      },
      "source": [
        "import torch\r\n",
        "from torch import nn\r\n",
        "import torch.nn.functional as F\r\n",
        "from torch.utils.data import DataLoader, Dataset, Subset\r\n",
        "\r\n",
        "from torchsummary import summary\r\n",
        "import numpy as np\r\n",
        "import pandas as pd\r\n",
        "import zipfile\r\n",
        "import random\r\n",
        "\r\n",
        "from sklearn.model_selection import train_test_split"
      ],
      "execution_count": null,
      "outputs": []
    },
    {
      "cell_type": "markdown",
      "metadata": {
        "id": "RpcgJwXhVwuM"
      },
      "source": [
        "# Movielens 1M Dataset"
      ]
    },
    {
      "cell_type": "code",
      "metadata": {
        "id": "pFz80uYndbKA",
        "colab": {
          "base_uri": "https://localhost:8080/"
        },
        "outputId": "9d1a6ab5-4eda-4656-b7f8-74be3701b3a4"
      },
      "source": [
        "!wget -c http://files.grouplens.org/datasets/movielens/ml-1m.zip\r\n",
        "import zipfile\r\n",
        "with zipfile.ZipFile('ml-1m.zip', 'r') as zip_ref:\r\n",
        "    zip_ref.extractall()"
      ],
      "execution_count": null,
      "outputs": [
        {
          "output_type": "stream",
          "text": [
            "--2021-01-06 22:57:18--  http://files.grouplens.org/datasets/movielens/ml-1m.zip\n",
            "Resolving files.grouplens.org (files.grouplens.org)... 128.101.65.152\n",
            "Connecting to files.grouplens.org (files.grouplens.org)|128.101.65.152|:80... connected.\n",
            "HTTP request sent, awaiting response... 416 Requested Range Not Satisfiable\n",
            "\n",
            "    The file is already fully retrieved; nothing to do.\n",
            "\n"
          ],
          "name": "stdout"
        }
      ]
    },
    {
      "cell_type": "code",
      "metadata": {
        "colab": {
          "base_uri": "https://localhost:8080/",
          "height": 402
        },
        "id": "XjjA0peCTfaZ",
        "outputId": "eb912a27-645a-4a08-b492-09d196f63af0"
      },
      "source": [
        "ratings_df = pd.read_csv('./ml-1m/ratings.dat', sep=\"::\", engine='python', names=['user', 'item', 'rating', 'timestamp'])\r\n",
        "users = sorted(ratings_df['user'].unique())\r\n",
        "items = sorted(ratings_df['item'].unique())\r\n",
        "ratings_df"
      ],
      "execution_count": null,
      "outputs": [
        {
          "output_type": "execute_result",
          "data": {
            "text/html": [
              "<div>\n",
              "<style scoped>\n",
              "    .dataframe tbody tr th:only-of-type {\n",
              "        vertical-align: middle;\n",
              "    }\n",
              "\n",
              "    .dataframe tbody tr th {\n",
              "        vertical-align: top;\n",
              "    }\n",
              "\n",
              "    .dataframe thead th {\n",
              "        text-align: right;\n",
              "    }\n",
              "</style>\n",
              "<table border=\"1\" class=\"dataframe\">\n",
              "  <thead>\n",
              "    <tr style=\"text-align: right;\">\n",
              "      <th></th>\n",
              "      <th>user</th>\n",
              "      <th>item</th>\n",
              "      <th>rating</th>\n",
              "      <th>timestamp</th>\n",
              "    </tr>\n",
              "  </thead>\n",
              "  <tbody>\n",
              "    <tr>\n",
              "      <th>0</th>\n",
              "      <td>1</td>\n",
              "      <td>1193</td>\n",
              "      <td>5</td>\n",
              "      <td>978300760</td>\n",
              "    </tr>\n",
              "    <tr>\n",
              "      <th>1</th>\n",
              "      <td>1</td>\n",
              "      <td>661</td>\n",
              "      <td>3</td>\n",
              "      <td>978302109</td>\n",
              "    </tr>\n",
              "    <tr>\n",
              "      <th>2</th>\n",
              "      <td>1</td>\n",
              "      <td>914</td>\n",
              "      <td>3</td>\n",
              "      <td>978301968</td>\n",
              "    </tr>\n",
              "    <tr>\n",
              "      <th>3</th>\n",
              "      <td>1</td>\n",
              "      <td>3408</td>\n",
              "      <td>4</td>\n",
              "      <td>978300275</td>\n",
              "    </tr>\n",
              "    <tr>\n",
              "      <th>4</th>\n",
              "      <td>1</td>\n",
              "      <td>2355</td>\n",
              "      <td>5</td>\n",
              "      <td>978824291</td>\n",
              "    </tr>\n",
              "    <tr>\n",
              "      <th>...</th>\n",
              "      <td>...</td>\n",
              "      <td>...</td>\n",
              "      <td>...</td>\n",
              "      <td>...</td>\n",
              "    </tr>\n",
              "    <tr>\n",
              "      <th>1000204</th>\n",
              "      <td>6040</td>\n",
              "      <td>1091</td>\n",
              "      <td>1</td>\n",
              "      <td>956716541</td>\n",
              "    </tr>\n",
              "    <tr>\n",
              "      <th>1000205</th>\n",
              "      <td>6040</td>\n",
              "      <td>1094</td>\n",
              "      <td>5</td>\n",
              "      <td>956704887</td>\n",
              "    </tr>\n",
              "    <tr>\n",
              "      <th>1000206</th>\n",
              "      <td>6040</td>\n",
              "      <td>562</td>\n",
              "      <td>5</td>\n",
              "      <td>956704746</td>\n",
              "    </tr>\n",
              "    <tr>\n",
              "      <th>1000207</th>\n",
              "      <td>6040</td>\n",
              "      <td>1096</td>\n",
              "      <td>4</td>\n",
              "      <td>956715648</td>\n",
              "    </tr>\n",
              "    <tr>\n",
              "      <th>1000208</th>\n",
              "      <td>6040</td>\n",
              "      <td>1097</td>\n",
              "      <td>4</td>\n",
              "      <td>956715569</td>\n",
              "    </tr>\n",
              "  </tbody>\n",
              "</table>\n",
              "<p>1000209 rows × 4 columns</p>\n",
              "</div>"
            ],
            "text/plain": [
              "         user  item  rating  timestamp\n",
              "0           1  1193       5  978300760\n",
              "1           1   661       3  978302109\n",
              "2           1   914       3  978301968\n",
              "3           1  3408       4  978300275\n",
              "4           1  2355       5  978824291\n",
              "...       ...   ...     ...        ...\n",
              "1000204  6040  1091       1  956716541\n",
              "1000205  6040  1094       5  956704887\n",
              "1000206  6040   562       5  956704746\n",
              "1000207  6040  1096       4  956715648\n",
              "1000208  6040  1097       4  956715569\n",
              "\n",
              "[1000209 rows x 4 columns]"
            ]
          },
          "metadata": {
            "tags": []
          },
          "execution_count": 5
        }
      ]
    },
    {
      "cell_type": "code",
      "metadata": {
        "id": "YN7eFrMtU0Gy"
      },
      "source": [
        "# train validate test split\r\n",
        "train_df, test_df = train_test_split(ratings_df, test_size=0.1)\r\n",
        "train_df, validate_df = train_test_split(train_df, test_size=0.1)"
      ],
      "execution_count": null,
      "outputs": []
    },
    {
      "cell_type": "code",
      "metadata": {
        "colab": {
          "base_uri": "https://localhost:8080/"
        },
        "id": "YoMoTusznlCp",
        "outputId": "ad5cd61b-8592-4a14-9152-8995b23efe79"
      },
      "source": [
        "print(\"number of train-validate-test:\", len(train_df), len(validate_df), len(test_df))"
      ],
      "execution_count": null,
      "outputs": [
        {
          "output_type": "stream",
          "text": [
            "number of train-validate-test: 810169 90019 100021\n"
          ],
          "name": "stdout"
        }
      ]
    },
    {
      "cell_type": "code",
      "metadata": {
        "id": "EK40qPN2dbtA"
      },
      "source": [
        "class ML1MDataset(Dataset):\r\n",
        "    \"\"\"\r\n",
        "        MovieLens 1M Dataset\r\n",
        "        + Params:\r\n",
        "            - ratings_df: DataFrame with 4 columns: user, item, rating, timestamp\r\n",
        "            - users: list all users\r\n",
        "            - items: list all items\r\n",
        "    \"\"\"\r\n",
        "    def __init__(self, ratings_df: pd.DataFrame, users, items):\r\n",
        "        self.ratings_numpy = ratings_df.to_numpy()\r\n",
        "        \r\n",
        "        self.users = users\r\n",
        "        self.items = items\r\n",
        "        \r\n",
        "        self.num_users = len(self.users)\r\n",
        "        self.num_items = len(self.items)\r\n",
        "        self.num_ratings = len(ratings_df)\r\n",
        "\r\n",
        "        self.user_to_id = {user:id for id, user in enumerate(self.users)}\r\n",
        "        self.item_to_id = {item:id for id, item in enumerate(self.items)}\r\n",
        "    \r\n",
        "    def __len__(self):\r\n",
        "        return self.num_ratings\r\n",
        "    \r\n",
        "\r\n",
        "    def __getitem__(self, idx):\r\n",
        "\r\n",
        "        user, item, rating, timestamp = self.ratings_numpy[idx]\r\n",
        "\r\n",
        "        user_id = self.user_to_id[user]\r\n",
        "        item_id = self.item_to_id[item]\r\n",
        "        rating = 1.0 * rating\r\n",
        "\r\n",
        "        \r\n",
        "        return user_id, item_id, rating"
      ],
      "execution_count": null,
      "outputs": []
    },
    {
      "cell_type": "code",
      "metadata": {
        "id": "cy4_nulOhaec"
      },
      "source": [
        "trainset =  ML1MDataset(train_df, users, items)\r\n",
        "testset = ML1MDataset(test_df, users, items)\r\n",
        "validateset = ML1MDataset(validate_df, users, items)"
      ],
      "execution_count": null,
      "outputs": []
    },
    {
      "cell_type": "markdown",
      "metadata": {
        "id": "ccd3-Fs7aPSY"
      },
      "source": [
        "# Model"
      ]
    },
    {
      "cell_type": "code",
      "metadata": {
        "id": "07rK9NjdWK2a"
      },
      "source": [
        "def l2_regularize(array):\r\n",
        "    \"\"\"\r\n",
        "    Function to do L2 regularization\r\n",
        "    \"\"\"\r\n",
        "    loss = torch.sum(array ** 2.0)\r\n",
        "    return loss"
      ],
      "execution_count": null,
      "outputs": []
    },
    {
      "cell_type": "code",
      "metadata": {
        "id": "8Lukc22sUKQQ"
      },
      "source": [
        "class MF(nn.Module):\r\n",
        "    # Iteration counter\r\n",
        "    itr = 0\r\n",
        "\r\n",
        "    def __init__(self, n_user, n_item, k=10, lamda=1.0):\r\n",
        "        \"\"\"\r\n",
        "        :param n_user: User column\r\n",
        "        :param n_item: Item column\r\n",
        "        :param k: Dimensions constant\r\n",
        "        :param lamda: Regularization constant\r\n",
        "        :param writer: Log results via TensorBoard\r\n",
        "        \"\"\"\r\n",
        "        super(MF, self).__init__()\r\n",
        "\r\n",
        "        self.k = k\r\n",
        "        self.n_user = n_user\r\n",
        "        self.n_item = n_item\r\n",
        "        self.lamda = lamda\r\n",
        "\r\n",
        "        \r\n",
        "        self.user = nn.Embedding(n_user, k)\r\n",
        "        self.item = nn.Embedding(n_item, k)\r\n",
        "\r\n",
        "    def forward(self, user_id, item_id):\r\n",
        "        \r\n",
        "        vector_user = self.user(user_id)\r\n",
        "        \r\n",
        "        vector_item = self.item(item_id)\r\n",
        "\r\n",
        "        # The user-item interaction: p_u * q_i is a dot product between the 2 vectors above\r\n",
        "        ui_interaction = torch.sum(vector_user * vector_item, dim=1)\r\n",
        "\r\n",
        "        return ui_interaction\r\n",
        "\r\n",
        "    def loss(self, prediction, target):\r\n",
        "        \"\"\"\r\n",
        "        Function to calculate the loss metric\r\n",
        "        \"\"\"\r\n",
        "        # Calculate the Mean Squared Error between target = R_ui and prediction = p_u * q_i\r\n",
        "        loss_mse = F.mse_loss(prediction, target.squeeze())\r\n",
        "\r\n",
        "        # Compute L2 regularization over user (P) and item (Q) matrices\r\n",
        "        prior_user = l2_regularize(self.user.weight) * self.lamda\r\n",
        "        prior_item = l2_regularize(self.item.weight) * self.lamda\r\n",
        "\r\n",
        "        \r\n",
        "        total = loss_mse + prior_user + prior_item\r\n",
        "\r\n",
        "        return total\r\n"
      ],
      "execution_count": null,
      "outputs": []
    },
    {
      "cell_type": "markdown",
      "metadata": {
        "id": "er8LD-SgaT0f"
      },
      "source": [
        "# Train"
      ]
    },
    {
      "cell_type": "code",
      "metadata": {
        "id": "4yyIm9QKd0Rh"
      },
      "source": [
        "def train(model, trainloader, optimizer, device):\r\n",
        "    model.train()\r\n",
        "    total_loss = 0.0\r\n",
        "    for i, (user, item, rating) in enumerate(trainloader):\r\n",
        "        user = torch.LongTensor(user).to(device)\r\n",
        "        item = torch.LongTensor(item).to(device)\r\n",
        "        rating = torch.FloatTensor(rating.float()).to(device)\r\n",
        "\r\n",
        "        pred_rating = model(user, item)\r\n",
        "        loss = model.loss(pred_rating, rating)\r\n",
        "\r\n",
        "        model.zero_grad()\r\n",
        "        loss.backward()\r\n",
        "        optimizer.step()\r\n",
        "\r\n",
        "        total_loss += loss.item()\r\n",
        "\r\n",
        "    return total_loss / i"
      ],
      "execution_count": null,
      "outputs": []
    },
    {
      "cell_type": "code",
      "metadata": {
        "id": "9SyYP8Wgeo7f"
      },
      "source": [
        "def test(model, testloader, device):\r\n",
        "    model.eval()\r\n",
        "    with torch.no_grad():\r\n",
        "        mse = 0.0\r\n",
        "        num_ratings = testloader.dataset.num_ratings\r\n",
        "        for i, (user, item, rating) in enumerate(testloader):\r\n",
        "            user = torch.LongTensor(user).to(device)\r\n",
        "            item = torch.LongTensor(item).to(device)\r\n",
        "            rating = torch.FloatTensor(rating.float()).to(device)\r\n",
        "\r\n",
        "            pred_rating = model(user, item)\r\n",
        "            pred_rating = torch.clamp(pred_rating, 0.0, 5.0)\r\n",
        "\r\n",
        "            square_error = nn.MSELoss(reduction='sum')(pred_rating, rating)\r\n",
        "\r\n",
        "            mse += square_error.item() / num_ratings\r\n",
        "    \r\n",
        "    return np.sqrt(mse)"
      ],
      "execution_count": null,
      "outputs": []
    },
    {
      "cell_type": "code",
      "metadata": {
        "id": "RCK6hTa1WrhT"
      },
      "source": [
        "lr = 0.01\r\n",
        "epochs = 50\r\n",
        "k = 5\r\n",
        "lamda = 1e-6\r\n",
        "batch_size = 512\r\n",
        "num_users = len(users)\r\n",
        "num_items = len(items)\r\n",
        "device = torch.device('cuda')"
      ],
      "execution_count": null,
      "outputs": []
    },
    {
      "cell_type": "code",
      "metadata": {
        "id": "r4M6_wCeb3U9"
      },
      "source": [
        "trainloader = DataLoader(trainset, batch_size=batch_size)\r\n",
        "validateloader = DataLoader(validateset, batch_size=batch_size)\r\n",
        "testloader = DataLoader(testset, batch_size=batch_size)"
      ],
      "execution_count": null,
      "outputs": []
    },
    {
      "cell_type": "code",
      "metadata": {
        "id": "0EBinAArXt7X"
      },
      "source": [
        "model = MF(num_users, num_items, k=k, lamda=lamda)\r\n",
        "model = model.to(device)"
      ],
      "execution_count": null,
      "outputs": []
    },
    {
      "cell_type": "code",
      "metadata": {
        "colab": {
          "base_uri": "https://localhost:8080/"
        },
        "id": "3d9Ti6rYibzy",
        "outputId": "d097ac9a-73d5-4922-9224-ae06832cadd3"
      },
      "source": [
        "wandb.watch(model, log=\"all\")"
      ],
      "execution_count": null,
      "outputs": [
        {
          "output_type": "execute_result",
          "data": {
            "text/plain": [
              "[<wandb.wandb_torch.TorchGraph at 0x7f1e30e40748>]"
            ]
          },
          "metadata": {
            "tags": []
          },
          "execution_count": 17
        }
      ]
    },
    {
      "cell_type": "code",
      "metadata": {
        "id": "RdK4ld8VX9BT"
      },
      "source": [
        "optimizer = torch.optim.Adam(model.parameters(), lr=lr)"
      ],
      "execution_count": null,
      "outputs": []
    },
    {
      "cell_type": "code",
      "metadata": {
        "id": "Uw86-V5Lif0-"
      },
      "source": [
        "params = {\r\n",
        "    \"k\": k,\r\n",
        "    \"device\": device,\r\n",
        "    \"batch_size\": batch_size,\r\n",
        "    \"epochs\": epochs,\r\n",
        "    \"lr\": lr,\r\n",
        "    \"lamda\": lamda,\r\n",
        "    \"optimizer\": optimizer,\r\n",
        "}\r\n",
        "wandb.config.update(params)"
      ],
      "execution_count": null,
      "outputs": []
    },
    {
      "cell_type": "code",
      "metadata": {
        "colab": {
          "base_uri": "https://localhost:8080/"
        },
        "id": "RmGWzY4_X93R",
        "outputId": "6ca8e55c-187e-437e-b0ec-f48bf87addb3"
      },
      "source": [
        "from time import time\r\n",
        "t0 = time()\r\n",
        "\r\n",
        "for epoch in range(epochs):\r\n",
        "    loss = train(model, trainloader, optimizer, device)\r\n",
        "    train_rmse = test(model, trainloader, device)\r\n",
        "    valid_rmse = test(model, validateloader, device)\r\n",
        "\r\n",
        "    print('epoch {} \\t train_loss {} \\t train_rmse {} \\t valid_rmse {}'.format(epoch+1, loss, train_rmse, valid_rmse))\r\n",
        "    metrics = {\r\n",
        "        \"train_loss\": loss,\r\n",
        "        \"train_rmse\": train_rmse,\r\n",
        "        \"valid_rmse\": valid_rmse\r\n",
        "    }\r\n",
        "    wandb.log(metrics, step=epoch+1)\r\n",
        "\r\n",
        "print(\"total time: \", time() - t0)"
      ],
      "execution_count": null,
      "outputs": [
        {
          "output_type": "stream",
          "text": [
            "epoch 1 \t train_loss 9.132557337865817 \t train_rmse 1.0452972202990103 \t valid_rmse 1.082289954453703\n",
            "epoch 2 \t train_loss 1.0014640973732534 \t train_rmse 0.927961329646787 \t valid_rmse 0.9561961631225312\n",
            "epoch 3 \t train_loss 0.9273177271169597 \t train_rmse 0.9127266512598265 \t valid_rmse 0.9431116786012644\n",
            "epoch 4 \t train_loss 0.8952544440813222 \t train_rmse 0.8929090393525995 \t valid_rmse 0.9283095406383498\n",
            "epoch 5 \t train_loss 0.8691152001904175 \t train_rmse 0.8811796595241137 \t valid_rmse 0.9205127627907763\n",
            "epoch 6 \t train_loss 0.8538089723864337 \t train_rmse 0.8742473632852857 \t valid_rmse 0.9164770694899819\n",
            "epoch 7 \t train_loss 0.8444549454147686 \t train_rmse 0.8696597344875376 \t valid_rmse 0.914162832404108\n",
            "epoch 8 \t train_loss 0.8381225630998913 \t train_rmse 0.8663482126940114 \t valid_rmse 0.9126002961362777\n",
            "epoch 9 \t train_loss 0.833540667361767 \t train_rmse 0.8638270736726343 \t valid_rmse 0.9114642053593208\n",
            "epoch 10 \t train_loss 0.8300728533421696 \t train_rmse 0.8618095282010259 \t valid_rmse 0.9105792898281025\n",
            "epoch 11 \t train_loss 0.8273126390278717 \t train_rmse 0.8601122037249637 \t valid_rmse 0.9097656846415341\n",
            "epoch 12 \t train_loss 0.8250156188131735 \t train_rmse 0.8586359429407721 \t valid_rmse 0.9089726179474711\n",
            "epoch 13 \t train_loss 0.8230208839312214 \t train_rmse 0.8573032242386406 \t valid_rmse 0.9081209751381428\n",
            "epoch 14 \t train_loss 0.8212363515355343 \t train_rmse 0.8560808157278592 \t valid_rmse 0.9071909287568268\n",
            "epoch 15 \t train_loss 0.8195979227082316 \t train_rmse 0.8549387687060422 \t valid_rmse 0.9061963191967366\n",
            "epoch 16 \t train_loss 0.8180829964003581 \t train_rmse 0.8538749272113159 \t valid_rmse 0.905155762448126\n",
            "epoch 17 \t train_loss 0.8166793526801388 \t train_rmse 0.852882844943687 \t valid_rmse 0.9041023366339667\n",
            "epoch 18 \t train_loss 0.8153846075124898 \t train_rmse 0.8519580005393221 \t valid_rmse 0.9030255334847567\n",
            "epoch 19 \t train_loss 0.814198758147007 \t train_rmse 0.8511084027646993 \t valid_rmse 0.9020057961161342\n",
            "epoch 20 \t train_loss 0.8131270054468765 \t train_rmse 0.8503366052679926 \t valid_rmse 0.9010101953562529\n",
            "epoch 21 \t train_loss 0.8121726459407927 \t train_rmse 0.8496434075367568 \t valid_rmse 0.9001204763628335\n",
            "epoch 22 \t train_loss 0.8113351095039233 \t train_rmse 0.849033803867159 \t valid_rmse 0.8992842800078341\n",
            "epoch 23 \t train_loss 0.8106142273443538 \t train_rmse 0.84850234916297 \t valid_rmse 0.8985701656228019\n",
            "epoch 24 \t train_loss 0.8099978113295004 \t train_rmse 0.8480441202603629 \t valid_rmse 0.8979194117676784\n",
            "epoch 25 \t train_loss 0.8094693910985168 \t train_rmse 0.8476472475764182 \t valid_rmse 0.8973803466759971\n",
            "epoch 26 \t train_loss 0.8090137418844606 \t train_rmse 0.8473021312696315 \t valid_rmse 0.8968994682003858\n",
            "epoch 27 \t train_loss 0.8086117861695898 \t train_rmse 0.8469905748229771 \t valid_rmse 0.8964846719720622\n",
            "epoch 28 \t train_loss 0.8082455824660291 \t train_rmse 0.8467109816761571 \t valid_rmse 0.896104525622025\n",
            "epoch 29 \t train_loss 0.8079102766498754 \t train_rmse 0.8464436405960332 \t valid_rmse 0.8957735221499489\n",
            "epoch 30 \t train_loss 0.8075861520170412 \t train_rmse 0.8461917404540495 \t valid_rmse 0.8954535149160632\n",
            "epoch 31 \t train_loss 0.8072765683555121 \t train_rmse 0.8459435794501738 \t valid_rmse 0.8951710663277016\n",
            "epoch 32 \t train_loss 0.8069709382301335 \t train_rmse 0.8457041399777045 \t valid_rmse 0.8948914359350555\n",
            "epoch 33 \t train_loss 0.8066717401316434 \t train_rmse 0.8454622143209118 \t valid_rmse 0.8946190312641998\n",
            "epoch 34 \t train_loss 0.8063700816272634 \t train_rmse 0.845223067125526 \t valid_rmse 0.8943576434319118\n",
            "epoch 35 \t train_loss 0.8060674753261426 \t train_rmse 0.8449815110889825 \t valid_rmse 0.8941031101572597\n",
            "epoch 36 \t train_loss 0.8057625772226625 \t train_rmse 0.8447414539737521 \t valid_rmse 0.8938567321230816\n",
            "epoch 37 \t train_loss 0.8054539558257526 \t train_rmse 0.8444975261681257 \t valid_rmse 0.8936156679451299\n",
            "epoch 38 \t train_loss 0.8051438505293897 \t train_rmse 0.8442524753163507 \t valid_rmse 0.8933648905346271\n",
            "epoch 39 \t train_loss 0.8048249609702456 \t train_rmse 0.8440047658240977 \t valid_rmse 0.8931299316126421\n",
            "epoch 40 \t train_loss 0.8045051464088044 \t train_rmse 0.8437576673169953 \t valid_rmse 0.8928880969441\n",
            "epoch 41 \t train_loss 0.804187452295788 \t train_rmse 0.8435136923115215 \t valid_rmse 0.8926634942267939\n",
            "epoch 42 \t train_loss 0.8038797217660245 \t train_rmse 0.8432783007587262 \t valid_rmse 0.8924340468720819\n",
            "epoch 43 \t train_loss 0.8035818486840626 \t train_rmse 0.8430496068072406 \t valid_rmse 0.8922255485282855\n",
            "epoch 44 \t train_loss 0.8032982570181604 \t train_rmse 0.8428361512990045 \t valid_rmse 0.8920103250562208\n",
            "epoch 45 \t train_loss 0.8030285168764112 \t train_rmse 0.842630644222554 \t valid_rmse 0.8918195791988643\n",
            "epoch 46 \t train_loss 0.8027792909428685 \t train_rmse 0.8424426578352862 \t valid_rmse 0.8916255401511691\n",
            "epoch 47 \t train_loss 0.8025415079708196 \t train_rmse 0.842264978533 \t valid_rmse 0.8914575199703019\n",
            "epoch 48 \t train_loss 0.8023254624208819 \t train_rmse 0.8421118376526181 \t valid_rmse 0.8912907967187731\n",
            "epoch 49 \t train_loss 0.8021300361219761 \t train_rmse 0.8419686994273466 \t valid_rmse 0.8911529143581166\n",
            "epoch 50 \t train_loss 0.8019567504619377 \t train_rmse 0.8418491952281651 \t valid_rmse 0.891020402984914\n",
            "total time:  644.5541973114014\n"
          ],
          "name": "stdout"
        }
      ]
    },
    {
      "cell_type": "code",
      "metadata": {
        "colab": {
          "base_uri": "https://localhost:8080/"
        },
        "id": "boh6wP5CdLpD",
        "outputId": "8fa060c7-0aee-428d-f9bb-3f9561d0fa32"
      },
      "source": [
        "test_rmse = test(model, testloader, device)\r\n",
        "print('test rmse:', test_rmse)"
      ],
      "execution_count": null,
      "outputs": [
        {
          "output_type": "stream",
          "text": [
            "test rmse: 0.8945088308462378\n"
          ],
          "name": "stdout"
        }
      ]
    },
    {
      "cell_type": "code",
      "metadata": {
        "id": "BzDJBCYPjiKg"
      },
      "source": [
        "wandb.log({\"test_rmse\": test_rmse})"
      ],
      "execution_count": null,
      "outputs": []
    },
    {
      "cell_type": "code",
      "metadata": {
        "colab": {
          "base_uri": "https://localhost:8080/",
          "height": 566,
          "referenced_widgets": [
            "93408ecc4628461ba537c0e57e7b0b93",
            "e9a31829a4f54897b15de960f094716f",
            "feee5ad852614aabba3a51074322b37a",
            "89fae1527cd9433986070761fd930d81",
            "a51d31faab3347f5b58bcac41fd2358d",
            "503ca5c74f714cb49398a6a66684ce89",
            "2e7ddddacb59400dbb36a5bb54855ff7",
            "55e001575c574f88829473fcb166caab"
          ]
        },
        "id": "F6ROXZdljm52",
        "outputId": "ea843a9b-d15f-4b9f-c24e-7d7ff390760a"
      },
      "source": [
        "wandb_run.finish()"
      ],
      "execution_count": null,
      "outputs": [
        {
          "output_type": "display_data",
          "data": {
            "text/html": [
              "<br/>Waiting for W&B process to finish, PID 1546<br/>Program ended successfully."
            ],
            "text/plain": [
              "<IPython.core.display.HTML object>"
            ]
          },
          "metadata": {
            "tags": []
          }
        },
        {
          "output_type": "display_data",
          "data": {
            "application/vnd.jupyter.widget-view+json": {
              "model_id": "93408ecc4628461ba537c0e57e7b0b93",
              "version_minor": 0,
              "version_major": 2
            },
            "text/plain": [
              "VBox(children=(Label(value=' 0.00MB of 0.00MB uploaded (0.00MB deduped)\\r'), FloatProgress(value=1.0, max=1.0)…"
            ]
          },
          "metadata": {
            "tags": []
          }
        },
        {
          "output_type": "display_data",
          "data": {
            "text/html": [
              "Find user logs for this run at: <code>/content/wandb/run-20210106_225716-20iyydci/logs/debug.log</code>"
            ],
            "text/plain": [
              "<IPython.core.display.HTML object>"
            ]
          },
          "metadata": {
            "tags": []
          }
        },
        {
          "output_type": "display_data",
          "data": {
            "text/html": [
              "Find internal logs for this run at: <code>/content/wandb/run-20210106_225716-20iyydci/logs/debug-internal.log</code>"
            ],
            "text/plain": [
              "<IPython.core.display.HTML object>"
            ]
          },
          "metadata": {
            "tags": []
          }
        },
        {
          "output_type": "display_data",
          "data": {
            "text/html": [
              "<h3>Run summary:</h3><br/><style>\n",
              "    table.wandb td:nth-child(1) { padding: 0 10px; text-align: right }\n",
              "    </style><table class=\"wandb\">\n",
              "<tr><td>_step</td><td>50</td></tr><tr><td>_runtime</td><td>658</td></tr><tr><td>_timestamp</td><td>1609974494</td></tr><tr><td>train_loss</td><td>0.80196</td></tr><tr><td>train_rmse</td><td>0.84185</td></tr><tr><td>valid_rmse</td><td>0.89102</td></tr><tr><td>test_rmse</td><td>0.89451</td></tr></table>"
            ],
            "text/plain": [
              "<IPython.core.display.HTML object>"
            ]
          },
          "metadata": {
            "tags": []
          }
        },
        {
          "output_type": "display_data",
          "data": {
            "text/html": [
              "<h3>Run history:</h3><br/><style>\n",
              "    table.wandb td:nth-child(1) { padding: 0 10px; text-align: right }\n",
              "    </style><table class=\"wandb\">\n",
              "<tr><td>_step</td><td>▁▁▁▁▂▂▂▂▂▃▃▃▃▃▃▄▄▄▄▄▅▅▅▅▅▅▆▆▆▆▆▆▇▇▇▇▇███</td></tr><tr><td>_runtime</td><td>▁▁▁▁▂▂▂▂▂▃▃▃▃▃▃▄▄▄▄▄▅▅▅▅▅▆▆▆▆▆▆▇▇▇▇▇████</td></tr><tr><td>_timestamp</td><td>▁▁▁▁▂▂▂▂▂▃▃▃▃▃▃▄▄▄▄▄▅▅▅▅▅▆▆▆▆▆▆▇▇▇▇▇████</td></tr><tr><td>train_loss</td><td>█▁▁▁▁▁▁▁▁▁▁▁▁▁▁▁▁▁▁▁▁▁▁▁▁▁▁▁▁▁▁▁▁▁▁▁▁▁▁▁</td></tr><tr><td>train_rmse</td><td>█▄▃▃▂▂▂▂▂▂▂▁▁▁▁▁▁▁▁▁▁▁▁▁▁▁▁▁▁▁▁▁▁▁▁▁▁▁▁▁</td></tr><tr><td>valid_rmse</td><td>█▃▃▂▂▂▂▂▂▂▂▂▂▁▁▁▁▁▁▁▁▁▁▁▁▁▁▁▁▁▁▁▁▁▁▁▁▁▁▁</td></tr><tr><td>test_rmse</td><td>▁</td></tr></table><br/>"
            ],
            "text/plain": [
              "<IPython.core.display.HTML object>"
            ]
          },
          "metadata": {
            "tags": []
          }
        },
        {
          "output_type": "display_data",
          "data": {
            "text/html": [
              "Synced 5 W&B file(s), 1 media file(s), 0 artifact file(s) and 0 other file(s)"
            ],
            "text/plain": [
              "<IPython.core.display.HTML object>"
            ]
          },
          "metadata": {
            "tags": []
          }
        },
        {
          "output_type": "display_data",
          "data": {
            "text/html": [
              "\n",
              "                    <br/>Synced <strong style=\"color:#cdcd00\">wise-voice-10</strong>: <a href=\"https://wandb.ai/van26101998/mf/runs/20iyydci\" target=\"_blank\">https://wandb.ai/van26101998/mf/runs/20iyydci</a><br/>\n",
              "                "
            ],
            "text/plain": [
              "<IPython.core.display.HTML object>"
            ]
          },
          "metadata": {
            "tags": []
          }
        }
      ]
    }
  ]
}