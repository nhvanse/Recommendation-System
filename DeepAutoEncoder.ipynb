{
  "nbformat": 4,
  "nbformat_minor": 0,
  "metadata": {
    "colab": {
      "name": "Copy of new_DeepAE.ipynb",
      "provenance": [],
      "collapsed_sections": [
        "RpcgJwXhVwuM"
      ],
      "authorship_tag": "ABX9TyNTXHnJixTcuopASDyrwH9q",
      "include_colab_link": true
    },
    "kernelspec": {
      "name": "python3",
      "display_name": "Python 3"
    },
    "accelerator": "GPU",
    "widgets": {
      "application/vnd.jupyter.widget-state+json": {
        "8ae1540b4103443795f8dbc592cd02e4": {
          "model_module": "@jupyter-widgets/controls",
          "model_name": "VBoxModel",
          "state": {
            "_view_name": "VBoxView",
            "_dom_classes": [],
            "_model_name": "VBoxModel",
            "_view_module": "@jupyter-widgets/controls",
            "_model_module_version": "1.5.0",
            "_view_count": null,
            "_view_module_version": "1.5.0",
            "box_style": "",
            "layout": "IPY_MODEL_2710f950ae764d73ad268ba255f80943",
            "_model_module": "@jupyter-widgets/controls",
            "children": [
              "IPY_MODEL_a48d15c955b24c8f850b594760cca007",
              "IPY_MODEL_28882566ff114c65ac3cc8b8fb056e82"
            ]
          }
        },
        "2710f950ae764d73ad268ba255f80943": {
          "model_module": "@jupyter-widgets/base",
          "model_name": "LayoutModel",
          "state": {
            "_view_name": "LayoutView",
            "grid_template_rows": null,
            "right": null,
            "justify_content": null,
            "_view_module": "@jupyter-widgets/base",
            "overflow": null,
            "_model_module_version": "1.2.0",
            "_view_count": null,
            "flex_flow": null,
            "width": null,
            "min_width": null,
            "border": null,
            "align_items": null,
            "bottom": null,
            "_model_module": "@jupyter-widgets/base",
            "top": null,
            "grid_column": null,
            "overflow_y": null,
            "overflow_x": null,
            "grid_auto_flow": null,
            "grid_area": null,
            "grid_template_columns": null,
            "flex": null,
            "_model_name": "LayoutModel",
            "justify_items": null,
            "grid_row": null,
            "max_height": null,
            "align_content": null,
            "visibility": null,
            "align_self": null,
            "height": null,
            "min_height": null,
            "padding": null,
            "grid_auto_rows": null,
            "grid_gap": null,
            "max_width": null,
            "order": null,
            "_view_module_version": "1.2.0",
            "grid_template_areas": null,
            "object_position": null,
            "object_fit": null,
            "grid_auto_columns": null,
            "margin": null,
            "display": null,
            "left": null
          }
        },
        "a48d15c955b24c8f850b594760cca007": {
          "model_module": "@jupyter-widgets/controls",
          "model_name": "LabelModel",
          "state": {
            "_view_name": "LabelView",
            "style": "IPY_MODEL_210a220b48644882b7e85a82ea3ea12a",
            "_dom_classes": [],
            "description": "",
            "_model_name": "LabelModel",
            "placeholder": "​",
            "_view_module": "@jupyter-widgets/controls",
            "_model_module_version": "1.5.0",
            "value": " 0.07MB of 0.07MB uploaded (0.00MB deduped)\r",
            "_view_count": null,
            "_view_module_version": "1.5.0",
            "description_tooltip": null,
            "_model_module": "@jupyter-widgets/controls",
            "layout": "IPY_MODEL_be71c762986b479688bf994abbc76db2"
          }
        },
        "28882566ff114c65ac3cc8b8fb056e82": {
          "model_module": "@jupyter-widgets/controls",
          "model_name": "FloatProgressModel",
          "state": {
            "_view_name": "ProgressView",
            "style": "IPY_MODEL_f2b0445d1cee41cca8d0bc5e583c14cd",
            "_dom_classes": [],
            "description": "",
            "_model_name": "FloatProgressModel",
            "bar_style": "",
            "max": 1,
            "_view_module": "@jupyter-widgets/controls",
            "_model_module_version": "1.5.0",
            "value": 1,
            "_view_count": null,
            "_view_module_version": "1.5.0",
            "orientation": "horizontal",
            "min": 0,
            "description_tooltip": null,
            "_model_module": "@jupyter-widgets/controls",
            "layout": "IPY_MODEL_b3c1a4adbca644539d340ca19353c753"
          }
        },
        "210a220b48644882b7e85a82ea3ea12a": {
          "model_module": "@jupyter-widgets/controls",
          "model_name": "DescriptionStyleModel",
          "state": {
            "_view_name": "StyleView",
            "_model_name": "DescriptionStyleModel",
            "description_width": "",
            "_view_module": "@jupyter-widgets/base",
            "_model_module_version": "1.5.0",
            "_view_count": null,
            "_view_module_version": "1.2.0",
            "_model_module": "@jupyter-widgets/controls"
          }
        },
        "be71c762986b479688bf994abbc76db2": {
          "model_module": "@jupyter-widgets/base",
          "model_name": "LayoutModel",
          "state": {
            "_view_name": "LayoutView",
            "grid_template_rows": null,
            "right": null,
            "justify_content": null,
            "_view_module": "@jupyter-widgets/base",
            "overflow": null,
            "_model_module_version": "1.2.0",
            "_view_count": null,
            "flex_flow": null,
            "width": null,
            "min_width": null,
            "border": null,
            "align_items": null,
            "bottom": null,
            "_model_module": "@jupyter-widgets/base",
            "top": null,
            "grid_column": null,
            "overflow_y": null,
            "overflow_x": null,
            "grid_auto_flow": null,
            "grid_area": null,
            "grid_template_columns": null,
            "flex": null,
            "_model_name": "LayoutModel",
            "justify_items": null,
            "grid_row": null,
            "max_height": null,
            "align_content": null,
            "visibility": null,
            "align_self": null,
            "height": null,
            "min_height": null,
            "padding": null,
            "grid_auto_rows": null,
            "grid_gap": null,
            "max_width": null,
            "order": null,
            "_view_module_version": "1.2.0",
            "grid_template_areas": null,
            "object_position": null,
            "object_fit": null,
            "grid_auto_columns": null,
            "margin": null,
            "display": null,
            "left": null
          }
        },
        "f2b0445d1cee41cca8d0bc5e583c14cd": {
          "model_module": "@jupyter-widgets/controls",
          "model_name": "ProgressStyleModel",
          "state": {
            "_view_name": "StyleView",
            "_model_name": "ProgressStyleModel",
            "description_width": "",
            "_view_module": "@jupyter-widgets/base",
            "_model_module_version": "1.5.0",
            "_view_count": null,
            "_view_module_version": "1.2.0",
            "bar_color": null,
            "_model_module": "@jupyter-widgets/controls"
          }
        },
        "b3c1a4adbca644539d340ca19353c753": {
          "model_module": "@jupyter-widgets/base",
          "model_name": "LayoutModel",
          "state": {
            "_view_name": "LayoutView",
            "grid_template_rows": null,
            "right": null,
            "justify_content": null,
            "_view_module": "@jupyter-widgets/base",
            "overflow": null,
            "_model_module_version": "1.2.0",
            "_view_count": null,
            "flex_flow": null,
            "width": null,
            "min_width": null,
            "border": null,
            "align_items": null,
            "bottom": null,
            "_model_module": "@jupyter-widgets/base",
            "top": null,
            "grid_column": null,
            "overflow_y": null,
            "overflow_x": null,
            "grid_auto_flow": null,
            "grid_area": null,
            "grid_template_columns": null,
            "flex": null,
            "_model_name": "LayoutModel",
            "justify_items": null,
            "grid_row": null,
            "max_height": null,
            "align_content": null,
            "visibility": null,
            "align_self": null,
            "height": null,
            "min_height": null,
            "padding": null,
            "grid_auto_rows": null,
            "grid_gap": null,
            "max_width": null,
            "order": null,
            "_view_module_version": "1.2.0",
            "grid_template_areas": null,
            "object_position": null,
            "object_fit": null,
            "grid_auto_columns": null,
            "margin": null,
            "display": null,
            "left": null
          }
        }
      }
    }
  },
  "cells": [
    {
      "cell_type": "markdown",
      "metadata": {
        "id": "view-in-github",
        "colab_type": "text"
      },
      "source": [
        "<a href=\"https://colab.research.google.com/github/van26101998/Recommendation-System/blob/main/DeepAutoEncoder.ipynb\" target=\"_parent\"><img src=\"https://colab.research.google.com/assets/colab-badge.svg\" alt=\"Open In Colab\"/></a>"
      ]
    },
    {
      "cell_type": "markdown",
      "metadata": {
        "id": "GHMAb2aAvs_4"
      },
      "source": [
        "# Pre"
      ]
    },
    {
      "cell_type": "code",
      "metadata": {
        "id": "5x7E5No2cH8R"
      },
      "source": [
        "# install required packages\r\n",
        "!pip install -q comet_ml wandb"
      ],
      "execution_count": null,
      "outputs": []
    },
    {
      "cell_type": "code",
      "metadata": {
        "id": "1_IgvvOTdReQ",
        "colab": {
          "base_uri": "https://localhost:8080/",
          "height": 134
        },
        "outputId": "abc203a6-3d76-41f7-f0ce-f3ac345349ec"
      },
      "source": [
        "import wandb\r\n",
        "wandb_run = wandb.init(project=\"deeprec-new-ml1m\")\r\n"
      ],
      "execution_count": null,
      "outputs": [
        {
          "output_type": "stream",
          "text": [
            "\u001b[34m\u001b[1mwandb\u001b[0m: Currently logged in as: \u001b[33mvan26101998\u001b[0m (use `wandb login --relogin` to force relogin)\n"
          ],
          "name": "stderr"
        },
        {
          "output_type": "display_data",
          "data": {
            "text/html": [
              "\n",
              "                Tracking run with wandb version 0.10.12<br/>\n",
              "                Syncing run <strong style=\"color:#cdcd00\">expert-cherry-15</strong> to <a href=\"https://wandb.ai\" target=\"_blank\">Weights & Biases</a> <a href=\"https://docs.wandb.com/integrations/jupyter.html\" target=\"_blank\">(Documentation)</a>.<br/>\n",
              "                Project page: <a href=\"https://wandb.ai/van26101998/deeprec-new-ml1m\" target=\"_blank\">https://wandb.ai/van26101998/deeprec-new-ml1m</a><br/>\n",
              "                Run page: <a href=\"https://wandb.ai/van26101998/deeprec-new-ml1m/runs/36r56yzn\" target=\"_blank\">https://wandb.ai/van26101998/deeprec-new-ml1m/runs/36r56yzn</a><br/>\n",
              "                Run data is saved locally in <code>/content/wandb/run-20201226_094455-36r56yzn</code><br/><br/>\n",
              "            "
            ],
            "text/plain": [
              "<IPython.core.display.HTML object>"
            ]
          },
          "metadata": {
            "tags": []
          }
        }
      ]
    },
    {
      "cell_type": "code",
      "metadata": {
        "id": "4-6SRStKdPgy",
        "colab": {
          "base_uri": "https://localhost:8080/"
        },
        "outputId": "3e9fe2b8-14fd-4105-e078-644f29017c60"
      },
      "source": [
        "from comet_ml import Experiment\r\n",
        "#Create an experiment with your api key:\r\n",
        "experiment = Experiment(\r\n",
        "    api_key=\"41MoEshiqniCH5C9YqZnSpEfc\",\r\n",
        "    project_name=\"deeprec-new-ml1m\",\r\n",
        "    workspace=\"van26101998\",\r\n",
        ")"
      ],
      "execution_count": null,
      "outputs": [
        {
          "output_type": "stream",
          "text": [
            "COMET INFO: Experiment is live on comet.ml https://www.comet.ml/van26101998/deeprec-new-ml1m/ec6377ec01674b74a830f371aaaea205\n",
            "\n"
          ],
          "name": "stderr"
        }
      ]
    },
    {
      "cell_type": "code",
      "metadata": {
        "id": "9dLlJ1MydZeg"
      },
      "source": [
        "SEED = 42"
      ],
      "execution_count": null,
      "outputs": []
    },
    {
      "cell_type": "code",
      "metadata": {
        "id": "Nxzz20rRdXYY"
      },
      "source": [
        "from typing import List, Dict, Text\r\n",
        "import torch\r\n",
        "import torch.nn as nn\r\n",
        "from torch.utils.data import DataLoader, Dataset, Subset\r\n",
        "\r\n",
        "from torchsummary import summary\r\n",
        "import numpy as np\r\n",
        "import pandas as pd\r\n",
        "import zipfile\r\n",
        "import random\r\n",
        "\r\n",
        "from sklearn.model_selection import train_test_split\r\n",
        "# torch.manual_seed(SEED)"
      ],
      "execution_count": null,
      "outputs": []
    },
    {
      "cell_type": "markdown",
      "metadata": {
        "id": "RpcgJwXhVwuM"
      },
      "source": [
        "# Movielens 1M Dataset"
      ]
    },
    {
      "cell_type": "code",
      "metadata": {
        "id": "pFz80uYndbKA",
        "colab": {
          "base_uri": "https://localhost:8080/"
        },
        "outputId": "d5806256-36a4-4ed5-c2bf-02a3e548e07d"
      },
      "source": [
        "!wget -c http://files.grouplens.org/datasets/movielens/ml-1m.zip\r\n",
        "import zipfile\r\n",
        "with zipfile.ZipFile('ml-1m.zip', 'r') as zip_ref:\r\n",
        "    zip_ref.extractall()"
      ],
      "execution_count": null,
      "outputs": [
        {
          "output_type": "stream",
          "text": [
            "--2020-12-26 09:45:01--  http://files.grouplens.org/datasets/movielens/ml-1m.zip\n",
            "Resolving files.grouplens.org (files.grouplens.org)... 128.101.65.152\n",
            "Connecting to files.grouplens.org (files.grouplens.org)|128.101.65.152|:80... connected.\n",
            "HTTP request sent, awaiting response... 416 Requested Range Not Satisfiable\n",
            "\n",
            "    The file is already fully retrieved; nothing to do.\n",
            "\n"
          ],
          "name": "stdout"
        }
      ]
    },
    {
      "cell_type": "code",
      "metadata": {
        "colab": {
          "base_uri": "https://localhost:8080/",
          "height": 402
        },
        "id": "XjjA0peCTfaZ",
        "outputId": "0726f0eb-60dd-42c3-e38e-8f40e69654b9"
      },
      "source": [
        "ratings_df = pd.read_csv('./ml-1m/ratings.dat', sep=\"::\", engine='python', names=['user', 'item', 'rating', 'timestamp'])\r\n",
        "users = sorted(ratings_df['user'].unique())\r\n",
        "items = sorted(ratings_df['item'].unique())\r\n",
        "ratings_df"
      ],
      "execution_count": null,
      "outputs": [
        {
          "output_type": "execute_result",
          "data": {
            "text/html": [
              "<div>\n",
              "<style scoped>\n",
              "    .dataframe tbody tr th:only-of-type {\n",
              "        vertical-align: middle;\n",
              "    }\n",
              "\n",
              "    .dataframe tbody tr th {\n",
              "        vertical-align: top;\n",
              "    }\n",
              "\n",
              "    .dataframe thead th {\n",
              "        text-align: right;\n",
              "    }\n",
              "</style>\n",
              "<table border=\"1\" class=\"dataframe\">\n",
              "  <thead>\n",
              "    <tr style=\"text-align: right;\">\n",
              "      <th></th>\n",
              "      <th>user</th>\n",
              "      <th>item</th>\n",
              "      <th>rating</th>\n",
              "      <th>timestamp</th>\n",
              "    </tr>\n",
              "  </thead>\n",
              "  <tbody>\n",
              "    <tr>\n",
              "      <th>0</th>\n",
              "      <td>1</td>\n",
              "      <td>1193</td>\n",
              "      <td>5</td>\n",
              "      <td>978300760</td>\n",
              "    </tr>\n",
              "    <tr>\n",
              "      <th>1</th>\n",
              "      <td>1</td>\n",
              "      <td>661</td>\n",
              "      <td>3</td>\n",
              "      <td>978302109</td>\n",
              "    </tr>\n",
              "    <tr>\n",
              "      <th>2</th>\n",
              "      <td>1</td>\n",
              "      <td>914</td>\n",
              "      <td>3</td>\n",
              "      <td>978301968</td>\n",
              "    </tr>\n",
              "    <tr>\n",
              "      <th>3</th>\n",
              "      <td>1</td>\n",
              "      <td>3408</td>\n",
              "      <td>4</td>\n",
              "      <td>978300275</td>\n",
              "    </tr>\n",
              "    <tr>\n",
              "      <th>4</th>\n",
              "      <td>1</td>\n",
              "      <td>2355</td>\n",
              "      <td>5</td>\n",
              "      <td>978824291</td>\n",
              "    </tr>\n",
              "    <tr>\n",
              "      <th>...</th>\n",
              "      <td>...</td>\n",
              "      <td>...</td>\n",
              "      <td>...</td>\n",
              "      <td>...</td>\n",
              "    </tr>\n",
              "    <tr>\n",
              "      <th>1000204</th>\n",
              "      <td>6040</td>\n",
              "      <td>1091</td>\n",
              "      <td>1</td>\n",
              "      <td>956716541</td>\n",
              "    </tr>\n",
              "    <tr>\n",
              "      <th>1000205</th>\n",
              "      <td>6040</td>\n",
              "      <td>1094</td>\n",
              "      <td>5</td>\n",
              "      <td>956704887</td>\n",
              "    </tr>\n",
              "    <tr>\n",
              "      <th>1000206</th>\n",
              "      <td>6040</td>\n",
              "      <td>562</td>\n",
              "      <td>5</td>\n",
              "      <td>956704746</td>\n",
              "    </tr>\n",
              "    <tr>\n",
              "      <th>1000207</th>\n",
              "      <td>6040</td>\n",
              "      <td>1096</td>\n",
              "      <td>4</td>\n",
              "      <td>956715648</td>\n",
              "    </tr>\n",
              "    <tr>\n",
              "      <th>1000208</th>\n",
              "      <td>6040</td>\n",
              "      <td>1097</td>\n",
              "      <td>4</td>\n",
              "      <td>956715569</td>\n",
              "    </tr>\n",
              "  </tbody>\n",
              "</table>\n",
              "<p>1000209 rows × 4 columns</p>\n",
              "</div>"
            ],
            "text/plain": [
              "         user  item  rating  timestamp\n",
              "0           1  1193       5  978300760\n",
              "1           1   661       3  978302109\n",
              "2           1   914       3  978301968\n",
              "3           1  3408       4  978300275\n",
              "4           1  2355       5  978824291\n",
              "...       ...   ...     ...        ...\n",
              "1000204  6040  1091       1  956716541\n",
              "1000205  6040  1094       5  956704887\n",
              "1000206  6040   562       5  956704746\n",
              "1000207  6040  1096       4  956715648\n",
              "1000208  6040  1097       4  956715569\n",
              "\n",
              "[1000209 rows x 4 columns]"
            ]
          },
          "metadata": {
            "tags": []
          },
          "execution_count": 7
        }
      ]
    },
    {
      "cell_type": "code",
      "metadata": {
        "id": "YN7eFrMtU0Gy"
      },
      "source": [
        "# train validate test split\r\n",
        "train_df, test_df = train_test_split(ratings_df, test_size=0.1, random_state=SEED)\r\n",
        "train_df, validate_df = train_test_split(train_df, test_size=0.1, random_state=SEED)"
      ],
      "execution_count": null,
      "outputs": []
    },
    {
      "cell_type": "code",
      "metadata": {
        "colab": {
          "base_uri": "https://localhost:8080/"
        },
        "id": "YoMoTusznlCp",
        "outputId": "881daedb-6b7c-4166-9347-44866614dbef"
      },
      "source": [
        "print(\"number of train-validate-test:\", len(train_df), len(validate_df), len(test_df))"
      ],
      "execution_count": null,
      "outputs": [
        {
          "output_type": "stream",
          "text": [
            "number of train-validate-test: 810169 90019 100021\n"
          ],
          "name": "stdout"
        }
      ]
    },
    {
      "cell_type": "code",
      "metadata": {
        "id": "EK40qPN2dbtA"
      },
      "source": [
        "class ML1MDataset(Dataset):\r\n",
        "    \"\"\"\r\n",
        "        MovieLens 1M Dataset\r\n",
        "        + Params:\r\n",
        "            - ratings_df: DataFrame with 4 columns: user, item, rating, timestamp\r\n",
        "            - users: list all users\r\n",
        "            - items: list all items\r\n",
        "    \"\"\"\r\n",
        "    def __init__(self, ratings_df: pd.DataFrame, users: List[int], items: List[int]):\r\n",
        "        self.data = {} \r\n",
        "        # dictionary with key - user, value - (a dictionary key - item, value - rating)\r\n",
        "        for user, item, rating, timestamp in ratings_df.to_numpy():\r\n",
        "            if user not in self.data:\r\n",
        "                self.data[user] = {}\r\n",
        "                \r\n",
        "            self.data[user][item] = rating\r\n",
        "         \r\n",
        "        \r\n",
        "        self.users = users\r\n",
        "        self.items = items\r\n",
        "        \r\n",
        "        self.num_users = len(self.users)\r\n",
        "        self.num_items = len(self.items)\r\n",
        "\r\n",
        "        self.user_to_id = {user:id for id, user in enumerate(self.users)}\r\n",
        "        self.item_to_id = {item:id for id, item in enumerate(self.items)}\r\n",
        "    \r\n",
        "    def __len__(self):\r\n",
        "        return self.num_users\r\n",
        "    \r\n",
        "\r\n",
        "    def __getitem__(self, idx):\r\n",
        "\r\n",
        "        user = self.users[idx]\r\n",
        "\r\n",
        "        ratings_vector = np.full((self.num_items,), 0)\r\n",
        "\r\n",
        "        if user in self.data:\r\n",
        "            for item, rating in self.data[user].items():\r\n",
        "                id = self.item_to_id[item]\r\n",
        "                ratings_vector[id] = rating\r\n",
        "\r\n",
        "        \r\n",
        "        return torch.FloatTensor(ratings_vector)"
      ],
      "execution_count": null,
      "outputs": []
    },
    {
      "cell_type": "code",
      "metadata": {
        "id": "cy4_nulOhaec"
      },
      "source": [
        "trainset =  ML1MDataset(train_df, users, items)\r\n",
        "testset = ML1MDataset(test_df, users, items)\r\n",
        "validateset = ML1MDataset(validate_df, users, items)"
      ],
      "execution_count": null,
      "outputs": []
    },
    {
      "cell_type": "code",
      "metadata": {
        "colab": {
          "base_uri": "https://localhost:8080/"
        },
        "id": "wFgxgS90c83K",
        "outputId": "88fa8425-1325-4281-86dc-6d64a5db57ac"
      },
      "source": [
        "trainset.num_users"
      ],
      "execution_count": null,
      "outputs": [
        {
          "output_type": "execute_result",
          "data": {
            "text/plain": [
              "6040"
            ]
          },
          "metadata": {
            "tags": []
          },
          "execution_count": 12
        }
      ]
    },
    {
      "cell_type": "markdown",
      "metadata": {
        "id": "nXhRqf37Qink"
      },
      "source": [
        "# Model"
      ]
    },
    {
      "cell_type": "code",
      "metadata": {
        "id": "goBXV0s9Vk3K"
      },
      "source": [
        "def get_activation_layer(activation_func: str):\n",
        "    activation_func = str.lower(activation_func)\n",
        "    match = {\n",
        "        \"selu\": nn.SELU(),\n",
        "        \"relu\": nn.ReLU(),\n",
        "        \"sigmoid\": nn.Sigmoid(),\n",
        "        \"tanh\": nn.Tanh()\n",
        "    }\n",
        "    \n",
        "    return match[activation_func]"
      ],
      "execution_count": null,
      "outputs": []
    },
    {
      "cell_type": "code",
      "metadata": {
        "id": "_b9Ek0OrH6fl"
      },
      "source": [
        "class DeepAutoEncoder(nn.Module):\n",
        "    def __init__(self, layer_sizes, activation_func='selu', is_constrained=True, dropout=0.0):\n",
        "        \"\"\"\n",
        "            Params:\n",
        "                layer_sizes: list of integers, if layer_sizes = [1000, 512, 256], the model has 2 encoder layers (1000*512) -> (512*256), and 2 decoder layers (256*512) -> (512*1000)\n",
        "                activation_func: activation function, one of `relu`, `tanh`, sigmoid`, `selu`\n",
        "                is_constrained: if True, the decoder re-uses weights of the encoder\n",
        "        \"\"\"\n",
        "        super(DeepAutoEncoder, self).__init__()\n",
        "\n",
        "        layers = list()\n",
        "\n",
        "        # encoder\n",
        "        for i in range(len(layer_sizes) - 1):\n",
        "            in_features = layer_sizes[i]\n",
        "            out_features = layer_sizes[i+1]\n",
        "            linear_layer = nn.Linear(in_features,out_features)\n",
        "            self.init_weight(linear_layer)\n",
        "            layers.append(linear_layer)\n",
        "            layers.append(get_activation_layer(activation_func))\n",
        "        \n",
        "        if dropout > 0:\n",
        "            layers.append(nn.Dropout(dropout))\n",
        "        \n",
        "        # decoder\n",
        "        for i in range(len(layer_sizes) - 1, 0, -1):\n",
        "            in_features = layer_sizes[i]\n",
        "            out_features = layer_sizes[i-1]\n",
        "            linear_layer = nn.Linear(in_features,out_features)\n",
        "            if is_constrained:\n",
        "                encode_linear_layer = layers[2*i-2]\n",
        "                linear_layer.weight.data = encode_linear_layer.weight.data.transpose(0, 1)\n",
        "            else:\n",
        "                self.init_weight(linear_layer)\n",
        "            layers.append(linear_layer)\n",
        "            layers.append(get_activation_layer(activation_func))\n",
        "        \n",
        "        self.dae = nn.Sequential(*layers)\n",
        "\n",
        "\n",
        "    def init_weight(self, layer):\n",
        "        if type(layer) == nn.Linear:\n",
        "            nn.init.xavier_uniform_(layer.weight)\n",
        "            layer.bias.data.fill_(0.01)\n",
        "    \n",
        "    \n",
        "    def forward(self, x):\n",
        "        return self.dae(x)"
      ],
      "execution_count": null,
      "outputs": []
    },
    {
      "cell_type": "markdown",
      "metadata": {
        "id": "T0sPzn7D_K29"
      },
      "source": [
        "# Evaluate function"
      ]
    },
    {
      "cell_type": "code",
      "metadata": {
        "id": "a7hjANWUwi0C"
      },
      "source": [
        "def masked_se(y_true, y_pred):\r\n",
        "    mask = y_true != 0\r\n",
        "    criterion = nn.MSELoss(reduction='sum')\r\n",
        "    \r\n",
        "    return criterion(y_pred * mask.float(), y_true)"
      ],
      "execution_count": null,
      "outputs": []
    },
    {
      "cell_type": "code",
      "metadata": {
        "id": "fL7DOLCYx898"
      },
      "source": [
        "def masked_mse(y_true, y_pred):\r\n",
        "    mask = y_true != 0\r\n",
        "    num_ratings = torch.sum(mask.float())\r\n",
        "    criterion = nn.MSELoss(reduction='sum')\r\n",
        "    masked_se = criterion(y_pred * mask.float(), y_true)\r\n",
        "\r\n",
        "    return masked_se / num_ratings"
      ],
      "execution_count": null,
      "outputs": []
    },
    {
      "cell_type": "code",
      "metadata": {
        "id": "BFRnwEkU8pKF"
      },
      "source": [
        "def masked_rmse(y_true, y_pred):\r\n",
        "    return torch.sqrt(masked_mse(y_true, y_pred))"
      ],
      "execution_count": null,
      "outputs": []
    },
    {
      "cell_type": "code",
      "metadata": {
        "id": "vo-LxWUm9vbA"
      },
      "source": [
        "def masked_rmse_clip(y_true, y_pred, min_clip=1, max_clip=5):\r\n",
        "    y_pred = torch.clip(y_pred, min_clip, max_clip)\r\n",
        "\r\n",
        "    return masked_rmse(y_true, y_pred)"
      ],
      "execution_count": null,
      "outputs": []
    },
    {
      "cell_type": "markdown",
      "metadata": {
        "id": "xmsi0fvzWAx9"
      },
      "source": [
        "# Train-test function"
      ]
    },
    {
      "cell_type": "code",
      "metadata": {
        "id": "S8222BwqVrl4"
      },
      "source": [
        "def train(model, optimizer, data_loader, criterion, device):\n",
        "    \"\"\"\n",
        "        Train the model\n",
        "        Params:\n",
        "        ...\n",
        "        criterion: loss function\n",
        "        Return:\n",
        "        total_loss\n",
        "    \"\"\"\n",
        "    model.train()\n",
        "    total_loss = 0.0\n",
        "    n = 0\n",
        "    for i, data in enumerate(data_loader):\n",
        "        input = data.to(device)\n",
        "        output = model(input)\n",
        "        loss = criterion(input.float(), output)\n",
        "        model.zero_grad()\n",
        "        loss.backward()\n",
        "        optimizer.step()\n",
        "        total_loss += loss.item()\n",
        "        n += 1\n",
        "    \n",
        "    return total_loss / n"
      ],
      "execution_count": null,
      "outputs": []
    },
    {
      "cell_type": "code",
      "metadata": {
        "id": "XNJIS0wDWH5s"
      },
      "source": [
        "def test(model, data_loader, device):\n",
        "    \"\"\"\n",
        "        Evaluate the model\n",
        "        Return: RMSE\n",
        "    \"\"\"\n",
        "    model.eval()\n",
        "    targets, predicts = list(), list()\n",
        "    with torch.no_grad():\n",
        "        for data in data_loader:\n",
        "            input = data.to(device)\n",
        "            output = model(input)\n",
        "            targets.extend(data.tolist())\n",
        "            predicts.extend(output.tolist())\n",
        "\n",
        "    targets, predicts = torch.Tensor(targets), torch.Tensor(predicts)\n",
        "    # TODO\n",
        "    return masked_rmse_clip(targets, predicts)"
      ],
      "execution_count": null,
      "outputs": []
    },
    {
      "cell_type": "markdown",
      "metadata": {
        "id": "TiMNWuNAWLk2"
      },
      "source": [
        "# Train on MovieLens1M"
      ]
    },
    {
      "cell_type": "code",
      "metadata": {
        "id": "aBZAHnoDWSBi"
      },
      "source": [
        "# parameters\n",
        "input_dim = len(items)\n",
        "layer_sizes = [input_dim, 512, 512, 1024]\n",
        "device = torch.device('cuda')\n",
        "batch_size = 512\n",
        "epochs = 100\n",
        "lr = 0.005\n",
        "momentum = 0.9\n",
        "criterion = masked_mse\n",
        "dropout = 0.8\n",
        "activation = 'selu'\n",
        "is_constrained = True"
      ],
      "execution_count": null,
      "outputs": []
    },
    {
      "cell_type": "code",
      "metadata": {
        "id": "PcOdZwvTWpT3"
      },
      "source": [
        "trainloader = DataLoader(trainset, batch_size=batch_size)\n",
        "validateloader = DataLoader(validateset, batch_size=batch_size)\n",
        "testloader = DataLoader(testset, batch_size=batch_size)"
      ],
      "execution_count": null,
      "outputs": []
    },
    {
      "cell_type": "code",
      "metadata": {
        "colab": {
          "base_uri": "https://localhost:8080/"
        },
        "id": "wIkRfvuhXHS9",
        "outputId": "0dd2b3ec-d7b9-485b-9d8d-d84eb0e85534"
      },
      "source": [
        "model = DeepAutoEncoder(layer_sizes, dropout=dropout, is_constrained=is_constrained, activation_func=activation)\n",
        "model = model.to(device)\n",
        "summary(model, (1, layer_sizes[0]))"
      ],
      "execution_count": null,
      "outputs": [
        {
          "output_type": "stream",
          "text": [
            "----------------------------------------------------------------\n",
            "        Layer (type)               Output Shape         Param #\n",
            "================================================================\n",
            "            Linear-1               [-1, 1, 512]       1,897,984\n",
            "              SELU-2               [-1, 1, 512]               0\n",
            "            Linear-3               [-1, 1, 512]         262,656\n",
            "              SELU-4               [-1, 1, 512]               0\n",
            "            Linear-5              [-1, 1, 1024]         525,312\n",
            "              SELU-6              [-1, 1, 1024]               0\n",
            "           Dropout-7              [-1, 1, 1024]               0\n",
            "            Linear-8               [-1, 1, 512]         524,800\n",
            "              SELU-9               [-1, 1, 512]               0\n",
            "           Linear-10               [-1, 1, 512]         262,656\n",
            "             SELU-11               [-1, 1, 512]               0\n",
            "           Linear-12              [-1, 1, 3706]       1,901,178\n",
            "             SELU-13              [-1, 1, 3706]               0\n",
            "================================================================\n",
            "Total params: 5,374,586\n",
            "Trainable params: 5,374,586\n",
            "Non-trainable params: 0\n",
            "----------------------------------------------------------------\n",
            "Input size (MB): 0.01\n",
            "Forward/backward pass size (MB): 0.11\n",
            "Params size (MB): 20.50\n",
            "Estimated Total Size (MB): 20.63\n",
            "----------------------------------------------------------------\n"
          ],
          "name": "stdout"
        }
      ]
    },
    {
      "cell_type": "code",
      "metadata": {
        "colab": {
          "base_uri": "https://localhost:8080/"
        },
        "id": "RsUG4eQBvsap",
        "outputId": "693475d6-8214-48f2-c967-dc6e8d2e9222"
      },
      "source": [
        "wandb.watch(model, log=\"all\")"
      ],
      "execution_count": null,
      "outputs": [
        {
          "output_type": "execute_result",
          "data": {
            "text/plain": [
              "[<wandb.wandb_torch.TorchGraph at 0x7f57f57de080>]"
            ]
          },
          "metadata": {
            "tags": []
          },
          "execution_count": 24
        }
      ]
    },
    {
      "cell_type": "code",
      "metadata": {
        "id": "Ppu0V4E-XPYw"
      },
      "source": [
        "optimizer = torch.optim.SGD(params=model.parameters(), lr=lr, momentum=momentum)"
      ],
      "execution_count": null,
      "outputs": []
    },
    {
      "cell_type": "code",
      "metadata": {
        "id": "jHXhr3Nhv4cy"
      },
      "source": [
        "params = {\r\n",
        "    \"seed\": SEED,\r\n",
        "    \"layer_sizes\": layer_sizes,\r\n",
        "    \"device\": device,\r\n",
        "    \"batch_size\": batch_size,\r\n",
        "    \"epochs\": epochs,\r\n",
        "    \"lr\": lr,\r\n",
        "    \"dropout\": dropout,\r\n",
        "    \"momentum\": momentum,\r\n",
        "    \"activation\": activation,\r\n",
        "    \"optimizer\": optimizer,\r\n",
        "    \"is_constrained\": is_constrained\r\n",
        "}\r\n",
        "experiment.log_parameters(params)\r\n",
        "wandb.config.update(params)"
      ],
      "execution_count": null,
      "outputs": []
    },
    {
      "cell_type": "code",
      "metadata": {
        "colab": {
          "base_uri": "https://localhost:8080/"
        },
        "id": "dN0LP0DYXTUr",
        "outputId": "50496567-e02d-4148-c0fd-b52b096103e7"
      },
      "source": [
        "from time import time\n",
        "t0 = time()\n",
        "for epoch in range(epochs):\n",
        "    train_loss = train(model, optimizer, trainloader, criterion, device)\n",
        "    train_rmse_clip = test(model, trainloader, device)\n",
        "    valid_rmse_clip = test(model, validateloader, device)\n",
        "    # print('epoch {} \\t train_loss {} '.format(epoch+1, train_loss))\n",
        "    print('epoch {} \\t train_loss {} \\t train_rmse {} \\t valid_rmse {}'.format(epoch+1, train_loss, train_rmse_clip, valid_rmse_clip))\n",
        "\n",
        "    metrics = {\n",
        "        \"train_loss\": train_loss,\n",
        "        \"train_rmse_clip\": train_rmse_clip,\n",
        "        \"valid_rmse_clip\": valid_rmse_clip\n",
        "    }\n",
        "    experiment.log_metrics(metrics, epoch=epoch+1)\n",
        "    wandb.log(metrics)\n",
        "print(\"total time: \", time() - t0)"
      ],
      "execution_count": null,
      "outputs": [
        {
          "output_type": "stream",
          "text": [
            "epoch 1 \t train_loss 8.66086765130361 \t train_rmse 1.6905927658081055 \t valid_rmse 1.651010513305664\n",
            "epoch 2 \t train_loss 4.250160257021586 \t train_rmse 1.354318618774414 \t valid_rmse 1.4420223236083984\n",
            "epoch 3 \t train_loss 2.712116519610087 \t train_rmse 1.2138255834579468 \t valid_rmse 1.2998994588851929\n",
            "epoch 4 \t train_loss 2.1522141098976135 \t train_rmse 1.1271229982376099 \t valid_rmse 1.197977900505066\n",
            "epoch 5 \t train_loss 1.878717948993047 \t train_rmse 1.0759445428848267 \t valid_rmse 1.1381431818008423\n",
            "epoch 6 \t train_loss 1.7160055041313171 \t train_rmse 1.043956995010376 \t valid_rmse 1.0980967283248901\n",
            "epoch 7 \t train_loss 1.5928086737791698 \t train_rmse 1.027258038520813 \t valid_rmse 1.0864953994750977\n",
            "epoch 8 \t train_loss 1.5087817509969075 \t train_rmse 1.0170612335205078 \t valid_rmse 1.0792722702026367\n",
            "epoch 9 \t train_loss 1.439484308163325 \t train_rmse 1.00852632522583 \t valid_rmse 1.0666700601577759\n",
            "epoch 10 \t train_loss 1.371719519297282 \t train_rmse 0.9943221211433411 \t valid_rmse 1.0487682819366455\n",
            "epoch 11 \t train_loss 1.3271841208140056 \t train_rmse 0.985386312007904 \t valid_rmse 1.0359337329864502\n",
            "epoch 12 \t train_loss 1.2777920265992482 \t train_rmse 0.9706737399101257 \t valid_rmse 1.0230194330215454\n",
            "epoch 13 \t train_loss 1.2403614322344463 \t train_rmse 0.9685158729553223 \t valid_rmse 1.0194718837738037\n",
            "epoch 14 \t train_loss 1.2174742023150127 \t train_rmse 0.9659709930419922 \t valid_rmse 1.0147709846496582\n",
            "epoch 15 \t train_loss 1.1847517093022664 \t train_rmse 0.9566844701766968 \t valid_rmse 1.0063507556915283\n",
            "epoch 16 \t train_loss 1.1635518670082092 \t train_rmse 0.9500095248222351 \t valid_rmse 0.9935708045959473\n",
            "epoch 17 \t train_loss 1.1434261600176494 \t train_rmse 0.9476003646850586 \t valid_rmse 0.9944725632667542\n",
            "epoch 18 \t train_loss 1.1330671310424805 \t train_rmse 0.9491403698921204 \t valid_rmse 0.9901760816574097\n",
            "epoch 19 \t train_loss 1.1104751229286194 \t train_rmse 0.943480372428894 \t valid_rmse 0.9846682548522949\n",
            "epoch 20 \t train_loss 1.0899451573689778 \t train_rmse 0.9431254267692566 \t valid_rmse 0.9809756278991699\n",
            "epoch 21 \t train_loss 1.0816567540168762 \t train_rmse 0.9386653304100037 \t valid_rmse 0.9762921333312988\n",
            "epoch 22 \t train_loss 1.0660773714383442 \t train_rmse 0.9362619519233704 \t valid_rmse 0.969882071018219\n",
            "epoch 23 \t train_loss 1.0518962542215984 \t train_rmse 0.9280782341957092 \t valid_rmse 0.9603503942489624\n",
            "epoch 24 \t train_loss 1.0409259100755055 \t train_rmse 0.9347225427627563 \t valid_rmse 0.9653014540672302\n",
            "epoch 25 \t train_loss 1.0309016406536102 \t train_rmse 0.9357472062110901 \t valid_rmse 0.9655554890632629\n",
            "epoch 26 \t train_loss 1.0199679682652156 \t train_rmse 0.9258179068565369 \t valid_rmse 0.9539961218833923\n",
            "epoch 27 \t train_loss 1.0077500144640605 \t train_rmse 0.9251433610916138 \t valid_rmse 0.946312427520752\n",
            "epoch 28 \t train_loss 1.0094276815652847 \t train_rmse 0.9203485250473022 \t valid_rmse 0.9462481737136841\n",
            "epoch 29 \t train_loss 0.9935164898633957 \t train_rmse 0.9181273579597473 \t valid_rmse 0.9423221349716187\n",
            "epoch 30 \t train_loss 0.9912343621253967 \t train_rmse 0.9188882112503052 \t valid_rmse 0.9417524337768555\n",
            "epoch 31 \t train_loss 0.9837424904108047 \t train_rmse 0.9216271042823792 \t valid_rmse 0.9396891593933105\n",
            "epoch 32 \t train_loss 0.9769548177719116 \t train_rmse 0.9138236045837402 \t valid_rmse 0.9336581826210022\n",
            "epoch 33 \t train_loss 0.9671530028184255 \t train_rmse 0.9134641289710999 \t valid_rmse 0.9284995198249817\n",
            "epoch 34 \t train_loss 0.9646915644407272 \t train_rmse 0.9128809571266174 \t valid_rmse 0.9321874976158142\n",
            "epoch 35 \t train_loss 0.9562960416078568 \t train_rmse 0.919596254825592 \t valid_rmse 0.9278813600540161\n",
            "epoch 36 \t train_loss 0.9571319868167242 \t train_rmse 0.9260234236717224 \t valid_rmse 0.9290584325790405\n",
            "epoch 37 \t train_loss 0.955856442451477 \t train_rmse 0.9138978123664856 \t valid_rmse 0.9257599115371704\n",
            "epoch 38 \t train_loss 0.9442282964785894 \t train_rmse 0.9215117692947388 \t valid_rmse 0.9238333106040955\n",
            "epoch 39 \t train_loss 0.9381683170795441 \t train_rmse 0.9373753666877747 \t valid_rmse 0.9264295697212219\n",
            "epoch 40 \t train_loss 0.9469265093406042 \t train_rmse 0.9241248965263367 \t valid_rmse 0.9200311303138733\n",
            "epoch 41 \t train_loss 0.9304533998171488 \t train_rmse 0.9221078157424927 \t valid_rmse 0.9157440066337585\n",
            "epoch 42 \t train_loss 0.934656172990799 \t train_rmse 0.9233599901199341 \t valid_rmse 0.9164202213287354\n",
            "epoch 43 \t train_loss 0.933036133646965 \t train_rmse 0.927257776260376 \t valid_rmse 0.9130795001983643\n",
            "epoch 44 \t train_loss 0.9308241059382757 \t train_rmse 0.9364206194877625 \t valid_rmse 0.9162895083427429\n",
            "epoch 45 \t train_loss 0.9304521530866623 \t train_rmse 0.9541464447975159 \t valid_rmse 0.9211190938949585\n",
            "epoch 46 \t train_loss 0.9340467751026154 \t train_rmse 0.9606096744537354 \t valid_rmse 0.9222245216369629\n",
            "epoch 47 \t train_loss 0.9295423626899719 \t train_rmse 0.9688906669616699 \t valid_rmse 0.9247774481773376\n",
            "epoch 48 \t train_loss 0.9368450492620468 \t train_rmse 0.9933044910430908 \t valid_rmse 0.9312249422073364\n",
            "epoch 49 \t train_loss 0.9509825855493546 \t train_rmse 1.0306074619293213 \t valid_rmse 0.9413090348243713\n",
            "epoch 50 \t train_loss 0.9759387920300165 \t train_rmse 1.0470401048660278 \t valid_rmse 0.9503188729286194\n",
            "epoch 51 \t train_loss 0.9980005224545797 \t train_rmse 0.9853445887565613 \t valid_rmse 0.9251416921615601\n",
            "epoch 52 \t train_loss 1.0060845067103703 \t train_rmse 0.8971116542816162 \t valid_rmse 0.8730828762054443\n",
            "epoch 53 \t train_loss 0.9670820434888204 \t train_rmse 0.890986979007721 \t valid_rmse 0.856536328792572\n",
            "epoch 54 \t train_loss 0.9254291504621506 \t train_rmse 0.8869920372962952 \t valid_rmse 0.8569415807723999\n",
            "epoch 55 \t train_loss 0.9038936694463094 \t train_rmse 0.8844242691993713 \t valid_rmse 0.8602305054664612\n",
            "epoch 56 \t train_loss 0.8859139780203501 \t train_rmse 0.8816710114479065 \t valid_rmse 0.8617066144943237\n",
            "epoch 57 \t train_loss 0.8866413881381353 \t train_rmse 0.8776803016662598 \t valid_rmse 0.861192524433136\n",
            "epoch 58 \t train_loss 0.8872258464495341 \t train_rmse 0.8746915459632874 \t valid_rmse 0.8597626090049744\n",
            "epoch 59 \t train_loss 0.8863430172204971 \t train_rmse 0.8731186985969543 \t valid_rmse 0.8575034141540527\n",
            "epoch 60 \t train_loss 0.8829236676295599 \t train_rmse 0.8719102740287781 \t valid_rmse 0.8559773564338684\n",
            "epoch 61 \t train_loss 0.8805428991715113 \t train_rmse 0.8707544803619385 \t valid_rmse 0.8543649315834045\n",
            "epoch 62 \t train_loss 0.8733017096916834 \t train_rmse 0.869132936000824 \t valid_rmse 0.854503333568573\n",
            "epoch 63 \t train_loss 0.8688528686761856 \t train_rmse 0.8679773807525635 \t valid_rmse 0.8527966737747192\n",
            "epoch 64 \t train_loss 0.8646935174862543 \t train_rmse 0.8659114837646484 \t valid_rmse 0.8540578484535217\n",
            "epoch 65 \t train_loss 0.8569704492886862 \t train_rmse 0.8634572625160217 \t valid_rmse 0.8551389575004578\n",
            "epoch 66 \t train_loss 0.853012373050054 \t train_rmse 0.8620656728744507 \t valid_rmse 0.8550798892974854\n",
            "epoch 67 \t train_loss 0.8486206283171972 \t train_rmse 0.8610092997550964 \t valid_rmse 0.8555793762207031\n",
            "epoch 68 \t train_loss 0.8472796479860941 \t train_rmse 0.8594216704368591 \t valid_rmse 0.8555841445922852\n",
            "epoch 69 \t train_loss 0.8427812606096268 \t train_rmse 0.857961118221283 \t valid_rmse 0.8572074174880981\n",
            "epoch 70 \t train_loss 0.8400231798489889 \t train_rmse 0.8576868772506714 \t valid_rmse 0.856165885925293\n",
            "epoch 71 \t train_loss 0.8369843512773514 \t train_rmse 0.8564591407775879 \t valid_rmse 0.8570874929428101\n",
            "epoch 72 \t train_loss 0.8323126633961996 \t train_rmse 0.8551366925239563 \t valid_rmse 0.8569539189338684\n",
            "epoch 73 \t train_loss 0.8316130340099335 \t train_rmse 0.8547887802124023 \t valid_rmse 0.8563748002052307\n",
            "epoch 74 \t train_loss 0.8313064773877462 \t train_rmse 0.8552188873291016 \t valid_rmse 0.8565702438354492\n",
            "epoch 75 \t train_loss 0.8272300610939661 \t train_rmse 0.85337233543396 \t valid_rmse 0.8569232225418091\n",
            "epoch 76 \t train_loss 0.8209162106116613 \t train_rmse 0.852617621421814 \t valid_rmse 0.8571987748146057\n",
            "epoch 77 \t train_loss 0.8226162046194077 \t train_rmse 0.8519313335418701 \t valid_rmse 0.8578651547431946\n",
            "epoch 78 \t train_loss 0.8163205633560816 \t train_rmse 0.8510741591453552 \t valid_rmse 0.8580347299575806\n",
            "epoch 79 \t train_loss 0.8151504645744959 \t train_rmse 0.8502874374389648 \t valid_rmse 0.857890248298645\n",
            "epoch 80 \t train_loss 0.8142156402269999 \t train_rmse 0.8511582612991333 \t valid_rmse 0.8575035333633423\n",
            "epoch 81 \t train_loss 0.8128165404001871 \t train_rmse 0.8506628274917603 \t valid_rmse 0.8571423292160034\n",
            "epoch 82 \t train_loss 0.8081013609965643 \t train_rmse 0.8465564250946045 \t valid_rmse 0.8596687912940979\n",
            "epoch 83 \t train_loss 0.8051931957403818 \t train_rmse 0.8455960750579834 \t valid_rmse 0.8597570657730103\n",
            "epoch 84 \t train_loss 0.8022299657265345 \t train_rmse 0.8461912274360657 \t valid_rmse 0.8595455884933472\n",
            "epoch 85 \t train_loss 0.8018934925397238 \t train_rmse 0.8440836668014526 \t valid_rmse 0.8608115315437317\n",
            "epoch 86 \t train_loss 0.7997134427229563 \t train_rmse 0.8423712849617004 \t valid_rmse 0.861394464969635\n",
            "epoch 87 \t train_loss 0.797303318977356 \t train_rmse 0.841206431388855 \t valid_rmse 0.8623424768447876\n",
            "epoch 88 \t train_loss 0.7952894568443298 \t train_rmse 0.8404396772384644 \t valid_rmse 0.8622971773147583\n",
            "epoch 89 \t train_loss 0.7960543980201086 \t train_rmse 0.8396090865135193 \t valid_rmse 0.8626173138618469\n",
            "epoch 90 \t train_loss 0.79300257563591 \t train_rmse 0.8391978740692139 \t valid_rmse 0.8632259964942932\n",
            "epoch 91 \t train_loss 0.7916295180718104 \t train_rmse 0.8385781645774841 \t valid_rmse 0.8639431595802307\n",
            "epoch 92 \t train_loss 0.7939492265383402 \t train_rmse 0.8383203148841858 \t valid_rmse 0.8652084469795227\n",
            "epoch 93 \t train_loss 0.7927734951178232 \t train_rmse 0.8387864232063293 \t valid_rmse 0.8651785254478455\n",
            "epoch 94 \t train_loss 0.7901901056369146 \t train_rmse 0.839862585067749 \t valid_rmse 0.8662095665931702\n",
            "epoch 95 \t train_loss 0.7946069637934366 \t train_rmse 0.8427930474281311 \t valid_rmse 0.8678920865058899\n",
            "epoch 96 \t train_loss 0.7940844595432281 \t train_rmse 0.8463538885116577 \t valid_rmse 0.8696427941322327\n",
            "epoch 97 \t train_loss 0.792705848813057 \t train_rmse 0.8537567853927612 \t valid_rmse 0.8743178248405457\n",
            "epoch 98 \t train_loss 0.8007362186908722 \t train_rmse 0.8632853627204895 \t valid_rmse 0.878645122051239\n",
            "epoch 99 \t train_loss 0.8026683231194814 \t train_rmse 0.8777651190757751 \t valid_rmse 0.8803929090499878\n",
            "epoch 100 \t train_loss 0.8049260824918747 \t train_rmse 0.8851581811904907 \t valid_rmse 0.8817362785339355\n",
            "total time:  667.3656585216522\n"
          ],
          "name": "stdout"
        }
      ]
    },
    {
      "cell_type": "code",
      "metadata": {
        "id": "iE86UW37a4g7",
        "colab": {
          "base_uri": "https://localhost:8080/"
        },
        "outputId": "28a095d5-35c9-4f94-9bf2-d846f7ca7cfd"
      },
      "source": [
        "test_rmse_clip = test(model, testloader, device)\n",
        "print('test rmse:', test_rmse_clip)"
      ],
      "execution_count": null,
      "outputs": [
        {
          "output_type": "stream",
          "text": [
            "test rmse: tensor(0.8897)\n"
          ],
          "name": "stdout"
        }
      ]
    },
    {
      "cell_type": "code",
      "metadata": {
        "id": "_OpAgPfzeLT4"
      },
      "source": [
        "experiment.log_metric(\"test_rmse_clip\", test_rmse_clip)\r\n",
        "wandb.log({\"test_rmse_clip\": test_rmse_clip})"
      ],
      "execution_count": null,
      "outputs": []
    },
    {
      "cell_type": "code",
      "metadata": {
        "id": "W2MUcD3WxSt6",
        "colab": {
          "base_uri": "https://localhost:8080/",
          "height": 1000,
          "referenced_widgets": [
            "8ae1540b4103443795f8dbc592cd02e4",
            "2710f950ae764d73ad268ba255f80943",
            "a48d15c955b24c8f850b594760cca007",
            "28882566ff114c65ac3cc8b8fb056e82",
            "210a220b48644882b7e85a82ea3ea12a",
            "be71c762986b479688bf994abbc76db2",
            "f2b0445d1cee41cca8d0bc5e583c14cd",
            "b3c1a4adbca644539d340ca19353c753"
          ]
        },
        "outputId": "9cd75715-5931-45a4-8a1d-2f0f0863af3e"
      },
      "source": [
        "wandb_run.finish()\r\n",
        "experiment.end()"
      ],
      "execution_count": null,
      "outputs": [
        {
          "output_type": "display_data",
          "data": {
            "text/html": [
              "<br/>Waiting for W&B process to finish, PID 646<br/>Program ended successfully."
            ],
            "text/plain": [
              "<IPython.core.display.HTML object>"
            ]
          },
          "metadata": {
            "tags": []
          }
        },
        {
          "output_type": "display_data",
          "data": {
            "application/vnd.jupyter.widget-view+json": {
              "model_id": "8ae1540b4103443795f8dbc592cd02e4",
              "version_minor": 0,
              "version_major": 2
            },
            "text/plain": [
              "VBox(children=(Label(value=' 0.00MB of 0.00MB uploaded (0.00MB deduped)\\r'), FloatProgress(value=1.0, max=1.0)…"
            ]
          },
          "metadata": {
            "tags": []
          }
        },
        {
          "output_type": "display_data",
          "data": {
            "text/html": [
              "Find user logs for this run at: <code>/content/wandb/run-20201226_094455-36r56yzn/logs/debug.log</code>"
            ],
            "text/plain": [
              "<IPython.core.display.HTML object>"
            ]
          },
          "metadata": {
            "tags": []
          }
        },
        {
          "output_type": "display_data",
          "data": {
            "text/html": [
              "Find internal logs for this run at: <code>/content/wandb/run-20201226_094455-36r56yzn/logs/debug-internal.log</code>"
            ],
            "text/plain": [
              "<IPython.core.display.HTML object>"
            ]
          },
          "metadata": {
            "tags": []
          }
        },
        {
          "output_type": "display_data",
          "data": {
            "text/html": [
              "<h3>Run summary:</h3><br/><style>\n",
              "    table.wandb td:nth-child(1) { padding: 0 10px; text-align: right }\n",
              "    </style><table class=\"wandb\">\n",
              "<tr><td>train_loss</td><td>0.80493</td></tr><tr><td>train_rmse_clip</td><td>0.88516</td></tr><tr><td>valid_rmse_clip</td><td>0.88174</td></tr><tr><td>_step</td><td>100</td></tr><tr><td>_runtime</td><td>686</td></tr><tr><td>_timestamp</td><td>1608976581</td></tr><tr><td>test_rmse_clip</td><td>0.88973</td></tr></table>"
            ],
            "text/plain": [
              "<IPython.core.display.HTML object>"
            ]
          },
          "metadata": {
            "tags": []
          }
        },
        {
          "output_type": "display_data",
          "data": {
            "text/html": [
              "<h3>Run history:</h3><br/><style>\n",
              "    table.wandb td:nth-child(1) { padding: 0 10px; text-align: right }\n",
              "    </style><table class=\"wandb\">\n",
              "<tr><td>train_loss</td><td>█▃▂▂▁▁▁▁▁▁▁▁▁▁▁▁▁▁▁▁▁▁▁▁▁▁▁▁▁▁▁▁▁▁▁▁▁▁▁▁</td></tr><tr><td>train_rmse_clip</td><td>█▄▃▂▂▂▂▂▂▂▂▂▂▂▂▂▂▂▂▃▂▁▁▁▁▁▁▁▁▁▁▁▁▁▁▁▁▁▁▁</td></tr><tr><td>valid_rmse_clip</td><td>█▅▃▃▃▂▂▂▂▂▂▂▂▂▂▂▂▂▂▂▂▁▁▁▁▁▁▁▁▁▁▁▁▁▁▁▁▁▁▁</td></tr><tr><td>_step</td><td>▁▁▁▁▂▂▂▂▂▃▃▃▃▃▃▄▄▄▄▄▅▅▅▅▅▅▆▆▆▆▆▇▇▇▇▇▇███</td></tr><tr><td>_runtime</td><td>▁▁▁▁▂▂▂▂▂▃▃▃▃▃▃▄▄▄▄▄▅▅▅▅▅▆▆▆▆▆▆▇▇▇▇▇▇███</td></tr><tr><td>_timestamp</td><td>▁▁▁▁▂▂▂▂▂▃▃▃▃▃▃▄▄▄▄▄▅▅▅▅▅▆▆▆▆▆▆▇▇▇▇▇▇███</td></tr><tr><td>test_rmse_clip</td><td>▁</td></tr></table><br/>"
            ],
            "text/plain": [
              "<IPython.core.display.HTML object>"
            ]
          },
          "metadata": {
            "tags": []
          }
        },
        {
          "output_type": "display_data",
          "data": {
            "text/html": [
              "Synced 5 W&B file(s), 1 media file(s), 0 artifact file(s) and 0 other file(s)"
            ],
            "text/plain": [
              "<IPython.core.display.HTML object>"
            ]
          },
          "metadata": {
            "tags": []
          }
        },
        {
          "output_type": "display_data",
          "data": {
            "text/html": [
              "\n",
              "                    <br/>Synced <strong style=\"color:#cdcd00\">expert-cherry-15</strong>: <a href=\"https://wandb.ai/van26101998/deeprec-new-ml1m/runs/36r56yzn\" target=\"_blank\">https://wandb.ai/van26101998/deeprec-new-ml1m/runs/36r56yzn</a><br/>\n",
              "                "
            ],
            "text/plain": [
              "<IPython.core.display.HTML object>"
            ]
          },
          "metadata": {
            "tags": []
          }
        },
        {
          "output_type": "stream",
          "text": [
            "COMET INFO: ---------------------------\n",
            "COMET INFO: Comet.ml Experiment Summary\n",
            "COMET INFO: ---------------------------\n",
            "COMET INFO:   Data:\n",
            "COMET INFO:     display_summary_level : 1\n",
            "COMET INFO:     url                   : https://www.comet.ml/van26101998/deeprec-new-ml1m/ec6377ec01674b74a830f371aaaea205\n",
            "COMET INFO:   Metrics [count] (min, max):\n",
            "COMET INFO:     loss [120]            : (0.7562607526779175, 10.384223937988281)\n",
            "COMET INFO:     test_rmse_clip        : 0.8897333741188049\n",
            "COMET INFO:     train_loss [100]      : (0.7901901056369146, 8.66086765130361)\n",
            "COMET INFO:     train_rmse_clip [100] : (0.8383203148841858, 1.6905927658081055)\n",
            "COMET INFO:     valid_rmse_clip [100] : (0.8527966737747192, 1.651010513305664)\n",
            "COMET INFO:   Parameters:\n",
            "COMET INFO:     activation     : selu\n",
            "COMET INFO:     batch_size     : 512\n",
            "COMET INFO:     device         : cuda\n",
            "COMET INFO:     dropout        : 0.8\n",
            "COMET INFO:     epochs         : 100\n",
            "COMET INFO:     is_constrained : True\n",
            "COMET INFO:     layer_sizes    : [3706, 512, 512, 1024]\n",
            "COMET INFO:     lr             : 0.005\n",
            "COMET INFO:     momentum       : 0.9\n",
            "COMET INFO:     optimizer      : SGD (\n",
            "Parameter Group 0\n",
            "    dampening: 0\n",
            "    lr: 0.005\n",
            "    momentum: 0.9\n",
            "    nesterov: False\n",
            "    weight_decay: 0\n",
            ")\n",
            "COMET INFO:     seed           : 20\n",
            "COMET INFO:   Uploads:\n",
            "COMET INFO:     code                : 1 (8 KB)\n",
            "COMET INFO:     environment details : 1\n",
            "COMET INFO:     filename            : 1\n",
            "COMET INFO:     installed packages  : 1\n",
            "COMET INFO:     model graph         : 1\n",
            "COMET INFO:     notebook            : 1\n",
            "COMET INFO:     os packages         : 1\n",
            "COMET INFO: ---------------------------\n",
            "COMET INFO: Uploading stats to Comet before program termination (may take several seconds)\n"
          ],
          "name": "stderr"
        }
      ]
    },
    {
      "cell_type": "code",
      "metadata": {
        "id": "r7dyooV8euey"
      },
      "source": [
        " "
      ],
      "execution_count": null,
      "outputs": []
    }
  ]
}